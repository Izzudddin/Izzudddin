{
  "cells": [
    {
      "cell_type": "markdown",
      "metadata": {
        "id": "iwdbTJ_ZIw7y"
      },
      "source": [
        "# Import Basic Libraries"
      ]
    },
    {
      "cell_type": "code",
      "execution_count": null,
      "metadata": {
        "id": "QwA9OqE1IY53"
      },
      "outputs": [],
      "source": [
        "import sklearn\n",
        "import numpy as np\n",
        "import pandas as pd"
      ]
    },
    {
      "cell_type": "markdown",
      "metadata": {
        "id": "f1O1Bg_pI1VD"
      },
      "source": [
        "# Import Data"
      ]
    },
    {
      "cell_type": "code",
      "execution_count": null,
      "metadata": {
        "colab": {
          "base_uri": "https://localhost:8080/"
        },
        "id": "Galut_WrI4bV",
        "outputId": "88c1535f-425b-4a13-dd5c-2a1bc8f2ad3e"
      },
      "outputs": [
        {
          "output_type": "stream",
          "name": "stderr",
          "text": [
            "/usr/local/lib/python3.7/dist-packages/ipykernel_launcher.py:1: FutureWarning: Inferring datetime64[ns, UTC] from data containing strings is deprecated and will be removed in a future version. To retain the old behavior explicitly pass Series(data, dtype={value.dtype})\n",
            "  \"\"\"Entry point for launching an IPython kernel.\n"
          ]
        }
      ],
      "source": [
        "df = pd.read_excel('dataaa.xlsx')"
      ]
    },
    {
      "cell_type": "markdown",
      "metadata": {
        "id": "rvtCODUEJciM"
      },
      "source": [
        "# Data Exploration (Exploratory Data Analysis)"
      ]
    },
    {
      "cell_type": "code",
      "execution_count": null,
      "metadata": {
        "colab": {
          "base_uri": "https://localhost:8080/",
          "height": 206
        },
        "id": "Mni8YItfJcSs",
        "outputId": "07632d94-388b-4e56-c7a2-730da7181d68"
      },
      "outputs": [
        {
          "output_type": "execute_result",
          "data": {
            "text/plain": [
              "                   Datetime  \\\n",
              "0 2022-05-27 06:04:01+00:00   \n",
              "1 2022-05-27 04:34:08+00:00   \n",
              "2 2022-05-27 04:24:52+00:00   \n",
              "3 2022-05-27 00:50:14+00:00   \n",
              "4 2022-05-26 21:46:38+00:00   \n",
              "\n",
              "                                                Text Label  \n",
              "0  Semoga yang benci islam atau sering giring opi...     0  \n",
              "1  @Naollivia @MegaPKeliduan Tenggelamkan sampai ...     0  \n",
              "2  @whyoedee @NUgarislucu Boleh benci dg Islam tp...     0  \n",
              "3   Aku mendukung abang karena papua jg saudara k...     0  \n",
              "4  @dyahwie @frsp_ Buat ngehina lah, dia kan benc...     0  "
            ],
            "text/html": [
              "\n",
              "  <div id=\"df-45862d33-be01-463c-8d1b-af8765962239\">\n",
              "    <div class=\"colab-df-container\">\n",
              "      <div>\n",
              "<style scoped>\n",
              "    .dataframe tbody tr th:only-of-type {\n",
              "        vertical-align: middle;\n",
              "    }\n",
              "\n",
              "    .dataframe tbody tr th {\n",
              "        vertical-align: top;\n",
              "    }\n",
              "\n",
              "    .dataframe thead th {\n",
              "        text-align: right;\n",
              "    }\n",
              "</style>\n",
              "<table border=\"1\" class=\"dataframe\">\n",
              "  <thead>\n",
              "    <tr style=\"text-align: right;\">\n",
              "      <th></th>\n",
              "      <th>Datetime</th>\n",
              "      <th>Text</th>\n",
              "      <th>Label</th>\n",
              "    </tr>\n",
              "  </thead>\n",
              "  <tbody>\n",
              "    <tr>\n",
              "      <th>0</th>\n",
              "      <td>2022-05-27 06:04:01+00:00</td>\n",
              "      <td>Semoga yang benci islam atau sering giring opi...</td>\n",
              "      <td>0</td>\n",
              "    </tr>\n",
              "    <tr>\n",
              "      <th>1</th>\n",
              "      <td>2022-05-27 04:34:08+00:00</td>\n",
              "      <td>@Naollivia @MegaPKeliduan Tenggelamkan sampai ...</td>\n",
              "      <td>0</td>\n",
              "    </tr>\n",
              "    <tr>\n",
              "      <th>2</th>\n",
              "      <td>2022-05-27 04:24:52+00:00</td>\n",
              "      <td>@whyoedee @NUgarislucu Boleh benci dg Islam tp...</td>\n",
              "      <td>0</td>\n",
              "    </tr>\n",
              "    <tr>\n",
              "      <th>3</th>\n",
              "      <td>2022-05-27 00:50:14+00:00</td>\n",
              "      <td>Aku mendukung abang karena papua jg saudara k...</td>\n",
              "      <td>0</td>\n",
              "    </tr>\n",
              "    <tr>\n",
              "      <th>4</th>\n",
              "      <td>2022-05-26 21:46:38+00:00</td>\n",
              "      <td>@dyahwie @frsp_ Buat ngehina lah, dia kan benc...</td>\n",
              "      <td>0</td>\n",
              "    </tr>\n",
              "  </tbody>\n",
              "</table>\n",
              "</div>\n",
              "      <button class=\"colab-df-convert\" onclick=\"convertToInteractive('df-45862d33-be01-463c-8d1b-af8765962239')\"\n",
              "              title=\"Convert this dataframe to an interactive table.\"\n",
              "              style=\"display:none;\">\n",
              "        \n",
              "  <svg xmlns=\"http://www.w3.org/2000/svg\" height=\"24px\"viewBox=\"0 0 24 24\"\n",
              "       width=\"24px\">\n",
              "    <path d=\"M0 0h24v24H0V0z\" fill=\"none\"/>\n",
              "    <path d=\"M18.56 5.44l.94 2.06.94-2.06 2.06-.94-2.06-.94-.94-2.06-.94 2.06-2.06.94zm-11 1L8.5 8.5l.94-2.06 2.06-.94-2.06-.94L8.5 2.5l-.94 2.06-2.06.94zm10 10l.94 2.06.94-2.06 2.06-.94-2.06-.94-.94-2.06-.94 2.06-2.06.94z\"/><path d=\"M17.41 7.96l-1.37-1.37c-.4-.4-.92-.59-1.43-.59-.52 0-1.04.2-1.43.59L10.3 9.45l-7.72 7.72c-.78.78-.78 2.05 0 2.83L4 21.41c.39.39.9.59 1.41.59.51 0 1.02-.2 1.41-.59l7.78-7.78 2.81-2.81c.8-.78.8-2.07 0-2.86zM5.41 20L4 18.59l7.72-7.72 1.47 1.35L5.41 20z\"/>\n",
              "  </svg>\n",
              "      </button>\n",
              "      \n",
              "  <style>\n",
              "    .colab-df-container {\n",
              "      display:flex;\n",
              "      flex-wrap:wrap;\n",
              "      gap: 12px;\n",
              "    }\n",
              "\n",
              "    .colab-df-convert {\n",
              "      background-color: #E8F0FE;\n",
              "      border: none;\n",
              "      border-radius: 50%;\n",
              "      cursor: pointer;\n",
              "      display: none;\n",
              "      fill: #1967D2;\n",
              "      height: 32px;\n",
              "      padding: 0 0 0 0;\n",
              "      width: 32px;\n",
              "    }\n",
              "\n",
              "    .colab-df-convert:hover {\n",
              "      background-color: #E2EBFA;\n",
              "      box-shadow: 0px 1px 2px rgba(60, 64, 67, 0.3), 0px 1px 3px 1px rgba(60, 64, 67, 0.15);\n",
              "      fill: #174EA6;\n",
              "    }\n",
              "\n",
              "    [theme=dark] .colab-df-convert {\n",
              "      background-color: #3B4455;\n",
              "      fill: #D2E3FC;\n",
              "    }\n",
              "\n",
              "    [theme=dark] .colab-df-convert:hover {\n",
              "      background-color: #434B5C;\n",
              "      box-shadow: 0px 1px 3px 1px rgba(0, 0, 0, 0.15);\n",
              "      filter: drop-shadow(0px 1px 2px rgba(0, 0, 0, 0.3));\n",
              "      fill: #FFFFFF;\n",
              "    }\n",
              "  </style>\n",
              "\n",
              "      <script>\n",
              "        const buttonEl =\n",
              "          document.querySelector('#df-45862d33-be01-463c-8d1b-af8765962239 button.colab-df-convert');\n",
              "        buttonEl.style.display =\n",
              "          google.colab.kernel.accessAllowed ? 'block' : 'none';\n",
              "\n",
              "        async function convertToInteractive(key) {\n",
              "          const element = document.querySelector('#df-45862d33-be01-463c-8d1b-af8765962239');\n",
              "          const dataTable =\n",
              "            await google.colab.kernel.invokeFunction('convertToInteractive',\n",
              "                                                     [key], {});\n",
              "          if (!dataTable) return;\n",
              "\n",
              "          const docLinkHtml = 'Like what you see? Visit the ' +\n",
              "            '<a target=\"_blank\" href=https://colab.research.google.com/notebooks/data_table.ipynb>data table notebook</a>'\n",
              "            + ' to learn more about interactive tables.';\n",
              "          element.innerHTML = '';\n",
              "          dataTable['output_type'] = 'display_data';\n",
              "          await google.colab.output.renderOutput(dataTable, element);\n",
              "          const docLink = document.createElement('div');\n",
              "          docLink.innerHTML = docLinkHtml;\n",
              "          element.appendChild(docLink);\n",
              "        }\n",
              "      </script>\n",
              "    </div>\n",
              "  </div>\n",
              "  "
            ]
          },
          "metadata": {},
          "execution_count": 3
        }
      ],
      "source": [
        "df.head()"
      ]
    },
    {
      "cell_type": "code",
      "execution_count": null,
      "metadata": {
        "colab": {
          "base_uri": "https://localhost:8080/",
          "height": 206
        },
        "id": "lRex8owXJV40",
        "outputId": "c594fa64-2aa5-47bf-b662-b8d8862b4cba"
      },
      "outputs": [
        {
          "output_type": "execute_result",
          "data": {
            "text/plain": [
              "                      Datetime  \\\n",
              "1577 2022-03-21 06:06:23+00:00   \n",
              "1578 2022-03-21 05:29:57+00:00   \n",
              "1579 2022-03-21 05:25:57+00:00   \n",
              "1580 2022-03-21 05:13:02+00:00   \n",
              "1581 2022-03-21 05:02:42+00:00   \n",
              "\n",
              "                                                   Text Label  \n",
              "1577  @Bambang_Budimab @Syarman59 @geloraco Kl benci...     0  \n",
              "1578  @wardoyooioi @tifsembiring Sampeyan yg merasa ...     0  \n",
              "1579  @katzedikke Autis amatiran bau kencur yaa bgit...     1  \n",
              "1580  @LindaKa81442002 @Mdy_Asmara1701 Orang yang ng...     0  \n",
              "1581  @jenny_jkt @yaniarsim Tp ama terorisme papua k...     0  "
            ],
            "text/html": [
              "\n",
              "  <div id=\"df-97852adc-e80f-4d98-be5f-29f6e263e895\">\n",
              "    <div class=\"colab-df-container\">\n",
              "      <div>\n",
              "<style scoped>\n",
              "    .dataframe tbody tr th:only-of-type {\n",
              "        vertical-align: middle;\n",
              "    }\n",
              "\n",
              "    .dataframe tbody tr th {\n",
              "        vertical-align: top;\n",
              "    }\n",
              "\n",
              "    .dataframe thead th {\n",
              "        text-align: right;\n",
              "    }\n",
              "</style>\n",
              "<table border=\"1\" class=\"dataframe\">\n",
              "  <thead>\n",
              "    <tr style=\"text-align: right;\">\n",
              "      <th></th>\n",
              "      <th>Datetime</th>\n",
              "      <th>Text</th>\n",
              "      <th>Label</th>\n",
              "    </tr>\n",
              "  </thead>\n",
              "  <tbody>\n",
              "    <tr>\n",
              "      <th>1577</th>\n",
              "      <td>2022-03-21 06:06:23+00:00</td>\n",
              "      <td>@Bambang_Budimab @Syarman59 @geloraco Kl benci...</td>\n",
              "      <td>0</td>\n",
              "    </tr>\n",
              "    <tr>\n",
              "      <th>1578</th>\n",
              "      <td>2022-03-21 05:29:57+00:00</td>\n",
              "      <td>@wardoyooioi @tifsembiring Sampeyan yg merasa ...</td>\n",
              "      <td>0</td>\n",
              "    </tr>\n",
              "    <tr>\n",
              "      <th>1579</th>\n",
              "      <td>2022-03-21 05:25:57+00:00</td>\n",
              "      <td>@katzedikke Autis amatiran bau kencur yaa bgit...</td>\n",
              "      <td>1</td>\n",
              "    </tr>\n",
              "    <tr>\n",
              "      <th>1580</th>\n",
              "      <td>2022-03-21 05:13:02+00:00</td>\n",
              "      <td>@LindaKa81442002 @Mdy_Asmara1701 Orang yang ng...</td>\n",
              "      <td>0</td>\n",
              "    </tr>\n",
              "    <tr>\n",
              "      <th>1581</th>\n",
              "      <td>2022-03-21 05:02:42+00:00</td>\n",
              "      <td>@jenny_jkt @yaniarsim Tp ama terorisme papua k...</td>\n",
              "      <td>0</td>\n",
              "    </tr>\n",
              "  </tbody>\n",
              "</table>\n",
              "</div>\n",
              "      <button class=\"colab-df-convert\" onclick=\"convertToInteractive('df-97852adc-e80f-4d98-be5f-29f6e263e895')\"\n",
              "              title=\"Convert this dataframe to an interactive table.\"\n",
              "              style=\"display:none;\">\n",
              "        \n",
              "  <svg xmlns=\"http://www.w3.org/2000/svg\" height=\"24px\"viewBox=\"0 0 24 24\"\n",
              "       width=\"24px\">\n",
              "    <path d=\"M0 0h24v24H0V0z\" fill=\"none\"/>\n",
              "    <path d=\"M18.56 5.44l.94 2.06.94-2.06 2.06-.94-2.06-.94-.94-2.06-.94 2.06-2.06.94zm-11 1L8.5 8.5l.94-2.06 2.06-.94-2.06-.94L8.5 2.5l-.94 2.06-2.06.94zm10 10l.94 2.06.94-2.06 2.06-.94-2.06-.94-.94-2.06-.94 2.06-2.06.94z\"/><path d=\"M17.41 7.96l-1.37-1.37c-.4-.4-.92-.59-1.43-.59-.52 0-1.04.2-1.43.59L10.3 9.45l-7.72 7.72c-.78.78-.78 2.05 0 2.83L4 21.41c.39.39.9.59 1.41.59.51 0 1.02-.2 1.41-.59l7.78-7.78 2.81-2.81c.8-.78.8-2.07 0-2.86zM5.41 20L4 18.59l7.72-7.72 1.47 1.35L5.41 20z\"/>\n",
              "  </svg>\n",
              "      </button>\n",
              "      \n",
              "  <style>\n",
              "    .colab-df-container {\n",
              "      display:flex;\n",
              "      flex-wrap:wrap;\n",
              "      gap: 12px;\n",
              "    }\n",
              "\n",
              "    .colab-df-convert {\n",
              "      background-color: #E8F0FE;\n",
              "      border: none;\n",
              "      border-radius: 50%;\n",
              "      cursor: pointer;\n",
              "      display: none;\n",
              "      fill: #1967D2;\n",
              "      height: 32px;\n",
              "      padding: 0 0 0 0;\n",
              "      width: 32px;\n",
              "    }\n",
              "\n",
              "    .colab-df-convert:hover {\n",
              "      background-color: #E2EBFA;\n",
              "      box-shadow: 0px 1px 2px rgba(60, 64, 67, 0.3), 0px 1px 3px 1px rgba(60, 64, 67, 0.15);\n",
              "      fill: #174EA6;\n",
              "    }\n",
              "\n",
              "    [theme=dark] .colab-df-convert {\n",
              "      background-color: #3B4455;\n",
              "      fill: #D2E3FC;\n",
              "    }\n",
              "\n",
              "    [theme=dark] .colab-df-convert:hover {\n",
              "      background-color: #434B5C;\n",
              "      box-shadow: 0px 1px 3px 1px rgba(0, 0, 0, 0.15);\n",
              "      filter: drop-shadow(0px 1px 2px rgba(0, 0, 0, 0.3));\n",
              "      fill: #FFFFFF;\n",
              "    }\n",
              "  </style>\n",
              "\n",
              "      <script>\n",
              "        const buttonEl =\n",
              "          document.querySelector('#df-97852adc-e80f-4d98-be5f-29f6e263e895 button.colab-df-convert');\n",
              "        buttonEl.style.display =\n",
              "          google.colab.kernel.accessAllowed ? 'block' : 'none';\n",
              "\n",
              "        async function convertToInteractive(key) {\n",
              "          const element = document.querySelector('#df-97852adc-e80f-4d98-be5f-29f6e263e895');\n",
              "          const dataTable =\n",
              "            await google.colab.kernel.invokeFunction('convertToInteractive',\n",
              "                                                     [key], {});\n",
              "          if (!dataTable) return;\n",
              "\n",
              "          const docLinkHtml = 'Like what you see? Visit the ' +\n",
              "            '<a target=\"_blank\" href=https://colab.research.google.com/notebooks/data_table.ipynb>data table notebook</a>'\n",
              "            + ' to learn more about interactive tables.';\n",
              "          element.innerHTML = '';\n",
              "          dataTable['output_type'] = 'display_data';\n",
              "          await google.colab.output.renderOutput(dataTable, element);\n",
              "          const docLink = document.createElement('div');\n",
              "          docLink.innerHTML = docLinkHtml;\n",
              "          element.appendChild(docLink);\n",
              "        }\n",
              "      </script>\n",
              "    </div>\n",
              "  </div>\n",
              "  "
            ]
          },
          "metadata": {},
          "execution_count": 4
        }
      ],
      "source": [
        "df.tail()"
      ]
    },
    {
      "cell_type": "code",
      "source": [
        "df.info()"
      ],
      "metadata": {
        "colab": {
          "base_uri": "https://localhost:8080/"
        },
        "id": "Om3H8gHTaVvd",
        "outputId": "673baafa-ce6a-45b2-f182-9a30f1ec8f2b"
      },
      "execution_count": null,
      "outputs": [
        {
          "output_type": "stream",
          "name": "stdout",
          "text": [
            "<class 'pandas.core.frame.DataFrame'>\n",
            "RangeIndex: 26211 entries, 0 to 26210\n",
            "Data columns (total 3 columns):\n",
            " #   Column      Non-Null Count  Dtype \n",
            "---  ------      --------------  ----- \n",
            " 0   Unnamed: 0  26211 non-null  int64 \n",
            " 1   Datetime    26211 non-null  object\n",
            " 2   Text        26211 non-null  object\n",
            "dtypes: int64(1), object(2)\n",
            "memory usage: 614.4+ KB\n"
          ]
        }
      ]
    },
    {
      "cell_type": "code",
      "execution_count": null,
      "metadata": {
        "colab": {
          "base_uri": "https://localhost:8080/"
        },
        "id": "jAUIxDOYJmvt",
        "outputId": "e997864d-185b-409e-cb4e-dd87b62caaa4"
      },
      "outputs": [
        {
          "output_type": "execute_result",
          "data": {
            "text/plain": [
              "1194"
            ]
          },
          "metadata": {},
          "execution_count": 4
        }
      ],
      "source": [
        "# non-islamophobic related tweets\n",
        "sum(df[\"Label\"] == 0)"
      ]
    },
    {
      "cell_type": "code",
      "execution_count": null,
      "metadata": {
        "colab": {
          "base_uri": "https://localhost:8080/"
        },
        "id": "ijAyVcYjKPc_",
        "outputId": "bc7fe588-4765-48a7-d550-8d288a59aca1"
      },
      "outputs": [
        {
          "output_type": "execute_result",
          "data": {
            "text/plain": [
              "388"
            ]
          },
          "metadata": {},
          "execution_count": 5
        }
      ],
      "source": [
        "# islamophobic related tweets\n",
        "sum(df[\"Label\"] == 1)"
      ]
    },
    {
      "cell_type": "code",
      "execution_count": null,
      "metadata": {
        "colab": {
          "base_uri": "https://localhost:8080/"
        },
        "id": "mubp2OU0M2-M",
        "outputId": "4e17f1cc-c029-4ea8-89c0-8bf73e6d1d46"
      },
      "outputs": [
        {
          "output_type": "execute_result",
          "data": {
            "text/plain": [
              "Datetime    0\n",
              "Text        0\n",
              "Label       0\n",
              "dtype: int64"
            ]
          },
          "metadata": {},
          "execution_count": 7
        }
      ],
      "source": [
        "# check if there are any missing values\n",
        "df.isnull().sum()"
      ]
    },
    {
      "cell_type": "markdown",
      "metadata": {
        "id": "m9uidliWUL9t"
      },
      "source": [
        "# Data cleaning"
      ]
    },
    {
      "cell_type": "code",
      "execution_count": null,
      "metadata": {
        "colab": {
          "base_uri": "https://localhost:8080/"
        },
        "id": "G9BW8zWhKWbn",
        "outputId": "cd3d4c8c-05fd-4411-d539-e22285078e36"
      },
      "outputs": [
        {
          "output_type": "stream",
          "name": "stdout",
          "text": [
            "Looking in indexes: https://pypi.org/simple, https://us-python.pkg.dev/colab-wheels/public/simple/\n",
            "Collecting tweet-preprocessor\n",
            "  Downloading tweet_preprocessor-0.6.0-py3-none-any.whl (27 kB)\n",
            "Installing collected packages: tweet-preprocessor\n",
            "Successfully installed tweet-preprocessor-0.6.0\n"
          ]
        }
      ],
      "source": [
        "#install tweet-preprocessor to clean tweets\n",
        "!pip install tweet-preprocessor"
      ]
    },
    {
      "cell_type": "code",
      "execution_count": null,
      "metadata": {
        "id": "iB47T9w3YNry"
      },
      "outputs": [],
      "source": [
        "# remove special characters using the regular expression library\n",
        "import re\n",
        "\n",
        "#set up punctuations we want to be replaced\n",
        "REPLACE_NO_SPACE = re.compile(\"(\\.)|(\\;)|(\\:)|(\\!)|(\\')|(\\?)|(\\,)|(\\\")|(\\|)|(\\()|(\\))|(\\[)|(\\])|(\\%)|(\\$)|(\\>)|(\\<)|(\\{)|(\\})\")\n",
        "REPLACE_WITH_SPACE = re.compile(\"(<br\\s/><br\\s/?)|(-)|(/)|(:).\")"
      ]
    },
    {
      "cell_type": "code",
      "execution_count": null,
      "metadata": {
        "id": "6Kaf60xXPryT"
      },
      "outputs": [],
      "source": [
        "import preprocessor as p\n",
        "\n",
        "# custum function to clean the dataset (combining tweet_preprocessor and reguar expression)\n",
        "def clean_tweets(df):\n",
        "  tempArr = []\n",
        "  for line in df:\n",
        "    # send to tweet_processor\n",
        "    tmpL = p.clean(line)\n",
        "    # remove puctuation\n",
        "    tmpL = REPLACE_NO_SPACE.sub(\"\", tmpL.lower()) # convert all tweets to lower cases\n",
        "    tmpL = REPLACE_WITH_SPACE.sub(\" \", tmpL)\n",
        "    tempArr.append(tmpL)\n",
        "  return tempArr"
      ]
    },
    {
      "cell_type": "code",
      "execution_count": null,
      "metadata": {
        "id": "B5BFI2HEUm6W"
      },
      "outputs": [],
      "source": [
        "# clean training data\n",
        "train_tweet = clean_tweets(df[\"Text\"])\n",
        "train_tweet = pd.DataFrame(train_tweet)"
      ]
    },
    {
      "cell_type": "code",
      "execution_count": null,
      "metadata": {
        "colab": {
          "base_uri": "https://localhost:8080/",
          "height": 363
        },
        "id": "suq-CJYUXAT8",
        "outputId": "40145caa-d754-494a-efb8-ca5a6060394c"
      },
      "outputs": [
        {
          "output_type": "execute_result",
          "data": {
            "text/plain": [
              "                   Datetime  \\\n",
              "0 2022-05-27 06:04:01+00:00   \n",
              "1 2022-05-27 04:34:08+00:00   \n",
              "2 2022-05-27 04:24:52+00:00   \n",
              "3 2022-05-27 00:50:14+00:00   \n",
              "4 2022-05-26 21:46:38+00:00   \n",
              "5 2022-05-26 21:46:00+00:00   \n",
              "6 2022-05-26 21:25:14+00:00   \n",
              "7 2022-05-26 21:24:36+00:00   \n",
              "8 2022-05-26 21:08:26+00:00   \n",
              "9 2022-05-26 20:27:29+00:00   \n",
              "\n",
              "                                                Text  Label  \\\n",
              "0  Semoga yang benci islam atau sering giring opi...      0   \n",
              "1  @Naollivia @MegaPKeliduan Tenggelamkan sampai ...      0   \n",
              "2  @whyoedee @NUgarislucu Boleh benci dg Islam tp...      0   \n",
              "3   Aku mendukung abang karena papua jg saudara k...      0   \n",
              "4  @dyahwie @frsp_ Buat ngehina lah, dia kan benc...      0   \n",
              "5  Satu persatu akun2 kek @MegaPKeliduan yg rasis...      0   \n",
              "6  @Iqbalfas @f0rdd_ @FNazy14 @otterion @deadnerv...      1   \n",
              "7  Gapernah sebelumnya tau doi ngapain aja sampe ...      0   \n",
              "8   @rafajar8 @Adasaja92561423 @Hilmi28 @ustadabd...      1   \n",
              "9  @herumeneutic disatu sisi,lu ngajak orang untk...      0   \n",
              "\n",
              "                                         clean_tweet  \n",
              "0  semoga yang benci islam atau sering giring opi...  \n",
              "1  tenggelamkan sampai dasar lautan manusia rasis...  \n",
              "2  boleh benci dg islam tp jgn melesetkan kt takb...  \n",
              "3  aku mendukung abang karena papua jg saudara ku...  \n",
              "4               buat ngehina lah dia kan benci islam  \n",
              "5  satu persatu akun2 kek yg rasis benci partai i...  \n",
              "6  kalo benci ya benci aja bang ga butuh alasan a...  \n",
              "7  gapernah sebelumnya tau doi ngapain aja sampe ...  \n",
              "8  kenapa benci somad karena dialah tipe bajingan...  \n",
              "9  disatu sisilu ngajak orang untk ikut mendukung...  "
            ],
            "text/html": [
              "\n",
              "  <div id=\"df-505c42b2-f6ba-406d-95c7-485a67b95672\">\n",
              "    <div class=\"colab-df-container\">\n",
              "      <div>\n",
              "<style scoped>\n",
              "    .dataframe tbody tr th:only-of-type {\n",
              "        vertical-align: middle;\n",
              "    }\n",
              "\n",
              "    .dataframe tbody tr th {\n",
              "        vertical-align: top;\n",
              "    }\n",
              "\n",
              "    .dataframe thead th {\n",
              "        text-align: right;\n",
              "    }\n",
              "</style>\n",
              "<table border=\"1\" class=\"dataframe\">\n",
              "  <thead>\n",
              "    <tr style=\"text-align: right;\">\n",
              "      <th></th>\n",
              "      <th>Datetime</th>\n",
              "      <th>Text</th>\n",
              "      <th>Label</th>\n",
              "      <th>clean_tweet</th>\n",
              "    </tr>\n",
              "  </thead>\n",
              "  <tbody>\n",
              "    <tr>\n",
              "      <th>0</th>\n",
              "      <td>2022-05-27 06:04:01+00:00</td>\n",
              "      <td>Semoga yang benci islam atau sering giring opi...</td>\n",
              "      <td>0</td>\n",
              "      <td>semoga yang benci islam atau sering giring opi...</td>\n",
              "    </tr>\n",
              "    <tr>\n",
              "      <th>1</th>\n",
              "      <td>2022-05-27 04:34:08+00:00</td>\n",
              "      <td>@Naollivia @MegaPKeliduan Tenggelamkan sampai ...</td>\n",
              "      <td>0</td>\n",
              "      <td>tenggelamkan sampai dasar lautan manusia rasis...</td>\n",
              "    </tr>\n",
              "    <tr>\n",
              "      <th>2</th>\n",
              "      <td>2022-05-27 04:24:52+00:00</td>\n",
              "      <td>@whyoedee @NUgarislucu Boleh benci dg Islam tp...</td>\n",
              "      <td>0</td>\n",
              "      <td>boleh benci dg islam tp jgn melesetkan kt takb...</td>\n",
              "    </tr>\n",
              "    <tr>\n",
              "      <th>3</th>\n",
              "      <td>2022-05-27 00:50:14+00:00</td>\n",
              "      <td>Aku mendukung abang karena papua jg saudara k...</td>\n",
              "      <td>0</td>\n",
              "      <td>aku mendukung abang karena papua jg saudara ku...</td>\n",
              "    </tr>\n",
              "    <tr>\n",
              "      <th>4</th>\n",
              "      <td>2022-05-26 21:46:38+00:00</td>\n",
              "      <td>@dyahwie @frsp_ Buat ngehina lah, dia kan benc...</td>\n",
              "      <td>0</td>\n",
              "      <td>buat ngehina lah dia kan benci islam</td>\n",
              "    </tr>\n",
              "    <tr>\n",
              "      <th>5</th>\n",
              "      <td>2022-05-26 21:46:00+00:00</td>\n",
              "      <td>Satu persatu akun2 kek @MegaPKeliduan yg rasis...</td>\n",
              "      <td>0</td>\n",
              "      <td>satu persatu akun2 kek yg rasis benci partai i...</td>\n",
              "    </tr>\n",
              "    <tr>\n",
              "      <th>6</th>\n",
              "      <td>2022-05-26 21:25:14+00:00</td>\n",
              "      <td>@Iqbalfas @f0rdd_ @FNazy14 @otterion @deadnerv...</td>\n",
              "      <td>1</td>\n",
              "      <td>kalo benci ya benci aja bang ga butuh alasan a...</td>\n",
              "    </tr>\n",
              "    <tr>\n",
              "      <th>7</th>\n",
              "      <td>2022-05-26 21:24:36+00:00</td>\n",
              "      <td>Gapernah sebelumnya tau doi ngapain aja sampe ...</td>\n",
              "      <td>0</td>\n",
              "      <td>gapernah sebelumnya tau doi ngapain aja sampe ...</td>\n",
              "    </tr>\n",
              "    <tr>\n",
              "      <th>8</th>\n",
              "      <td>2022-05-26 21:08:26+00:00</td>\n",
              "      <td>@rafajar8 @Adasaja92561423 @Hilmi28 @ustadabd...</td>\n",
              "      <td>1</td>\n",
              "      <td>kenapa benci somad karena dialah tipe bajingan...</td>\n",
              "    </tr>\n",
              "    <tr>\n",
              "      <th>9</th>\n",
              "      <td>2022-05-26 20:27:29+00:00</td>\n",
              "      <td>@herumeneutic disatu sisi,lu ngajak orang untk...</td>\n",
              "      <td>0</td>\n",
              "      <td>disatu sisilu ngajak orang untk ikut mendukung...</td>\n",
              "    </tr>\n",
              "  </tbody>\n",
              "</table>\n",
              "</div>\n",
              "      <button class=\"colab-df-convert\" onclick=\"convertToInteractive('df-505c42b2-f6ba-406d-95c7-485a67b95672')\"\n",
              "              title=\"Convert this dataframe to an interactive table.\"\n",
              "              style=\"display:none;\">\n",
              "        \n",
              "  <svg xmlns=\"http://www.w3.org/2000/svg\" height=\"24px\"viewBox=\"0 0 24 24\"\n",
              "       width=\"24px\">\n",
              "    <path d=\"M0 0h24v24H0V0z\" fill=\"none\"/>\n",
              "    <path d=\"M18.56 5.44l.94 2.06.94-2.06 2.06-.94-2.06-.94-.94-2.06-.94 2.06-2.06.94zm-11 1L8.5 8.5l.94-2.06 2.06-.94-2.06-.94L8.5 2.5l-.94 2.06-2.06.94zm10 10l.94 2.06.94-2.06 2.06-.94-2.06-.94-.94-2.06-.94 2.06-2.06.94z\"/><path d=\"M17.41 7.96l-1.37-1.37c-.4-.4-.92-.59-1.43-.59-.52 0-1.04.2-1.43.59L10.3 9.45l-7.72 7.72c-.78.78-.78 2.05 0 2.83L4 21.41c.39.39.9.59 1.41.59.51 0 1.02-.2 1.41-.59l7.78-7.78 2.81-2.81c.8-.78.8-2.07 0-2.86zM5.41 20L4 18.59l7.72-7.72 1.47 1.35L5.41 20z\"/>\n",
              "  </svg>\n",
              "      </button>\n",
              "      \n",
              "  <style>\n",
              "    .colab-df-container {\n",
              "      display:flex;\n",
              "      flex-wrap:wrap;\n",
              "      gap: 12px;\n",
              "    }\n",
              "\n",
              "    .colab-df-convert {\n",
              "      background-color: #E8F0FE;\n",
              "      border: none;\n",
              "      border-radius: 50%;\n",
              "      cursor: pointer;\n",
              "      display: none;\n",
              "      fill: #1967D2;\n",
              "      height: 32px;\n",
              "      padding: 0 0 0 0;\n",
              "      width: 32px;\n",
              "    }\n",
              "\n",
              "    .colab-df-convert:hover {\n",
              "      background-color: #E2EBFA;\n",
              "      box-shadow: 0px 1px 2px rgba(60, 64, 67, 0.3), 0px 1px 3px 1px rgba(60, 64, 67, 0.15);\n",
              "      fill: #174EA6;\n",
              "    }\n",
              "\n",
              "    [theme=dark] .colab-df-convert {\n",
              "      background-color: #3B4455;\n",
              "      fill: #D2E3FC;\n",
              "    }\n",
              "\n",
              "    [theme=dark] .colab-df-convert:hover {\n",
              "      background-color: #434B5C;\n",
              "      box-shadow: 0px 1px 3px 1px rgba(0, 0, 0, 0.15);\n",
              "      filter: drop-shadow(0px 1px 2px rgba(0, 0, 0, 0.3));\n",
              "      fill: #FFFFFF;\n",
              "    }\n",
              "  </style>\n",
              "\n",
              "      <script>\n",
              "        const buttonEl =\n",
              "          document.querySelector('#df-505c42b2-f6ba-406d-95c7-485a67b95672 button.colab-df-convert');\n",
              "        buttonEl.style.display =\n",
              "          google.colab.kernel.accessAllowed ? 'block' : 'none';\n",
              "\n",
              "        async function convertToInteractive(key) {\n",
              "          const element = document.querySelector('#df-505c42b2-f6ba-406d-95c7-485a67b95672');\n",
              "          const dataTable =\n",
              "            await google.colab.kernel.invokeFunction('convertToInteractive',\n",
              "                                                     [key], {});\n",
              "          if (!dataTable) return;\n",
              "\n",
              "          const docLinkHtml = 'Like what you see? Visit the ' +\n",
              "            '<a target=\"_blank\" href=https://colab.research.google.com/notebooks/data_table.ipynb>data table notebook</a>'\n",
              "            + ' to learn more about interactive tables.';\n",
              "          element.innerHTML = '';\n",
              "          dataTable['output_type'] = 'display_data';\n",
              "          await google.colab.output.renderOutput(dataTable, element);\n",
              "          const docLink = document.createElement('div');\n",
              "          docLink.innerHTML = docLinkHtml;\n",
              "          element.appendChild(docLink);\n",
              "        }\n",
              "      </script>\n",
              "    </div>\n",
              "  </div>\n",
              "  "
            ]
          },
          "metadata": {},
          "execution_count": 7
        }
      ],
      "source": [
        "# append cleaned tweets to the training data\n",
        "df[\"clean_tweet\"] = train_tweet\n",
        "\n",
        "# compare the cleaned and uncleaned tweets\n",
        "df.head(10)"
      ]
    },
    {
      "cell_type": "code",
      "source": [
        "df[df['Label']==0]"
      ],
      "metadata": {
        "id": "sM6Gbh4zXRE2",
        "colab": {
          "base_uri": "https://localhost:8080/",
          "height": 424
        },
        "outputId": "3b3b59a5-6c41-4eff-b918-059f16cf572c"
      },
      "execution_count": null,
      "outputs": [
        {
          "output_type": "execute_result",
          "data": {
            "text/plain": [
              "                      Datetime  \\\n",
              "0    2022-05-27 06:04:01+00:00   \n",
              "1    2022-05-27 04:34:08+00:00   \n",
              "2    2022-05-27 04:24:52+00:00   \n",
              "3    2022-05-27 00:50:14+00:00   \n",
              "4    2022-05-26 21:46:38+00:00   \n",
              "...                        ...   \n",
              "1576 2022-03-21 06:12:47+00:00   \n",
              "1577 2022-03-21 06:06:23+00:00   \n",
              "1578 2022-03-21 05:29:57+00:00   \n",
              "1580 2022-03-21 05:13:02+00:00   \n",
              "1581 2022-03-21 05:02:42+00:00   \n",
              "\n",
              "                                                   Text  Label  \\\n",
              "0     Semoga yang benci islam atau sering giring opi...      0   \n",
              "1     @Naollivia @MegaPKeliduan Tenggelamkan sampai ...      0   \n",
              "2     @whyoedee @NUgarislucu Boleh benci dg Islam tp...      0   \n",
              "3      Aku mendukung abang karena papua jg saudara k...      0   \n",
              "4     @dyahwie @frsp_ Buat ngehina lah, dia kan benc...      0   \n",
              "...                                                 ...    ...   \n",
              "1576  @aliefxzn @Gustepra_96 Gausah ngomongin akidah...      0   \n",
              "1577  @Bambang_Budimab @Syarman59 @geloraco Kl benci...      0   \n",
              "1578  @wardoyooioi @tifsembiring Sampeyan yg merasa ...      0   \n",
              "1580  @LindaKa81442002 @Mdy_Asmara1701 Orang yang ng...      0   \n",
              "1581  @jenny_jkt @yaniarsim Tp ama terorisme papua k...      0   \n",
              "\n",
              "                                            clean_tweet  \n",
              "0     semoga yang benci islam atau sering giring opi...  \n",
              "1     tenggelamkan sampai dasar lautan manusia rasis...  \n",
              "2     boleh benci dg islam tp jgn melesetkan kt takb...  \n",
              "3     aku mendukung abang karena papua jg saudara ku...  \n",
              "4                  buat ngehina lah dia kan benci islam  \n",
              "...                                                 ...  \n",
              "1576  gausah ngomongin akidah islam deh lu aja benci...  \n",
              "1577  kl benci islam terus terang ja blg bencong lo ...  \n",
              "1578  sampeyan yg merasa sok plural padahal nol besa...  \n",
              "1580  orang yang ngaku islam seharusnya bangga denga...  \n",
              "1581  tp ama terorisme papua kalian mingkem maka pat...  \n",
              "\n",
              "[1194 rows x 4 columns]"
            ],
            "text/html": [
              "\n",
              "  <div id=\"df-d1e407e5-6168-466f-8502-752fc030b99e\">\n",
              "    <div class=\"colab-df-container\">\n",
              "      <div>\n",
              "<style scoped>\n",
              "    .dataframe tbody tr th:only-of-type {\n",
              "        vertical-align: middle;\n",
              "    }\n",
              "\n",
              "    .dataframe tbody tr th {\n",
              "        vertical-align: top;\n",
              "    }\n",
              "\n",
              "    .dataframe thead th {\n",
              "        text-align: right;\n",
              "    }\n",
              "</style>\n",
              "<table border=\"1\" class=\"dataframe\">\n",
              "  <thead>\n",
              "    <tr style=\"text-align: right;\">\n",
              "      <th></th>\n",
              "      <th>Datetime</th>\n",
              "      <th>Text</th>\n",
              "      <th>Label</th>\n",
              "      <th>clean_tweet</th>\n",
              "    </tr>\n",
              "  </thead>\n",
              "  <tbody>\n",
              "    <tr>\n",
              "      <th>0</th>\n",
              "      <td>2022-05-27 06:04:01+00:00</td>\n",
              "      <td>Semoga yang benci islam atau sering giring opi...</td>\n",
              "      <td>0</td>\n",
              "      <td>semoga yang benci islam atau sering giring opi...</td>\n",
              "    </tr>\n",
              "    <tr>\n",
              "      <th>1</th>\n",
              "      <td>2022-05-27 04:34:08+00:00</td>\n",
              "      <td>@Naollivia @MegaPKeliduan Tenggelamkan sampai ...</td>\n",
              "      <td>0</td>\n",
              "      <td>tenggelamkan sampai dasar lautan manusia rasis...</td>\n",
              "    </tr>\n",
              "    <tr>\n",
              "      <th>2</th>\n",
              "      <td>2022-05-27 04:24:52+00:00</td>\n",
              "      <td>@whyoedee @NUgarislucu Boleh benci dg Islam tp...</td>\n",
              "      <td>0</td>\n",
              "      <td>boleh benci dg islam tp jgn melesetkan kt takb...</td>\n",
              "    </tr>\n",
              "    <tr>\n",
              "      <th>3</th>\n",
              "      <td>2022-05-27 00:50:14+00:00</td>\n",
              "      <td>Aku mendukung abang karena papua jg saudara k...</td>\n",
              "      <td>0</td>\n",
              "      <td>aku mendukung abang karena papua jg saudara ku...</td>\n",
              "    </tr>\n",
              "    <tr>\n",
              "      <th>4</th>\n",
              "      <td>2022-05-26 21:46:38+00:00</td>\n",
              "      <td>@dyahwie @frsp_ Buat ngehina lah, dia kan benc...</td>\n",
              "      <td>0</td>\n",
              "      <td>buat ngehina lah dia kan benci islam</td>\n",
              "    </tr>\n",
              "    <tr>\n",
              "      <th>...</th>\n",
              "      <td>...</td>\n",
              "      <td>...</td>\n",
              "      <td>...</td>\n",
              "      <td>...</td>\n",
              "    </tr>\n",
              "    <tr>\n",
              "      <th>1576</th>\n",
              "      <td>2022-03-21 06:12:47+00:00</td>\n",
              "      <td>@aliefxzn @Gustepra_96 Gausah ngomongin akidah...</td>\n",
              "      <td>0</td>\n",
              "      <td>gausah ngomongin akidah islam deh lu aja benci...</td>\n",
              "    </tr>\n",
              "    <tr>\n",
              "      <th>1577</th>\n",
              "      <td>2022-03-21 06:06:23+00:00</td>\n",
              "      <td>@Bambang_Budimab @Syarman59 @geloraco Kl benci...</td>\n",
              "      <td>0</td>\n",
              "      <td>kl benci islam terus terang ja blg bencong lo ...</td>\n",
              "    </tr>\n",
              "    <tr>\n",
              "      <th>1578</th>\n",
              "      <td>2022-03-21 05:29:57+00:00</td>\n",
              "      <td>@wardoyooioi @tifsembiring Sampeyan yg merasa ...</td>\n",
              "      <td>0</td>\n",
              "      <td>sampeyan yg merasa sok plural padahal nol besa...</td>\n",
              "    </tr>\n",
              "    <tr>\n",
              "      <th>1580</th>\n",
              "      <td>2022-03-21 05:13:02+00:00</td>\n",
              "      <td>@LindaKa81442002 @Mdy_Asmara1701 Orang yang ng...</td>\n",
              "      <td>0</td>\n",
              "      <td>orang yang ngaku islam seharusnya bangga denga...</td>\n",
              "    </tr>\n",
              "    <tr>\n",
              "      <th>1581</th>\n",
              "      <td>2022-03-21 05:02:42+00:00</td>\n",
              "      <td>@jenny_jkt @yaniarsim Tp ama terorisme papua k...</td>\n",
              "      <td>0</td>\n",
              "      <td>tp ama terorisme papua kalian mingkem maka pat...</td>\n",
              "    </tr>\n",
              "  </tbody>\n",
              "</table>\n",
              "<p>1194 rows × 4 columns</p>\n",
              "</div>\n",
              "      <button class=\"colab-df-convert\" onclick=\"convertToInteractive('df-d1e407e5-6168-466f-8502-752fc030b99e')\"\n",
              "              title=\"Convert this dataframe to an interactive table.\"\n",
              "              style=\"display:none;\">\n",
              "        \n",
              "  <svg xmlns=\"http://www.w3.org/2000/svg\" height=\"24px\"viewBox=\"0 0 24 24\"\n",
              "       width=\"24px\">\n",
              "    <path d=\"M0 0h24v24H0V0z\" fill=\"none\"/>\n",
              "    <path d=\"M18.56 5.44l.94 2.06.94-2.06 2.06-.94-2.06-.94-.94-2.06-.94 2.06-2.06.94zm-11 1L8.5 8.5l.94-2.06 2.06-.94-2.06-.94L8.5 2.5l-.94 2.06-2.06.94zm10 10l.94 2.06.94-2.06 2.06-.94-2.06-.94-.94-2.06-.94 2.06-2.06.94z\"/><path d=\"M17.41 7.96l-1.37-1.37c-.4-.4-.92-.59-1.43-.59-.52 0-1.04.2-1.43.59L10.3 9.45l-7.72 7.72c-.78.78-.78 2.05 0 2.83L4 21.41c.39.39.9.59 1.41.59.51 0 1.02-.2 1.41-.59l7.78-7.78 2.81-2.81c.8-.78.8-2.07 0-2.86zM5.41 20L4 18.59l7.72-7.72 1.47 1.35L5.41 20z\"/>\n",
              "  </svg>\n",
              "      </button>\n",
              "      \n",
              "  <style>\n",
              "    .colab-df-container {\n",
              "      display:flex;\n",
              "      flex-wrap:wrap;\n",
              "      gap: 12px;\n",
              "    }\n",
              "\n",
              "    .colab-df-convert {\n",
              "      background-color: #E8F0FE;\n",
              "      border: none;\n",
              "      border-radius: 50%;\n",
              "      cursor: pointer;\n",
              "      display: none;\n",
              "      fill: #1967D2;\n",
              "      height: 32px;\n",
              "      padding: 0 0 0 0;\n",
              "      width: 32px;\n",
              "    }\n",
              "\n",
              "    .colab-df-convert:hover {\n",
              "      background-color: #E2EBFA;\n",
              "      box-shadow: 0px 1px 2px rgba(60, 64, 67, 0.3), 0px 1px 3px 1px rgba(60, 64, 67, 0.15);\n",
              "      fill: #174EA6;\n",
              "    }\n",
              "\n",
              "    [theme=dark] .colab-df-convert {\n",
              "      background-color: #3B4455;\n",
              "      fill: #D2E3FC;\n",
              "    }\n",
              "\n",
              "    [theme=dark] .colab-df-convert:hover {\n",
              "      background-color: #434B5C;\n",
              "      box-shadow: 0px 1px 3px 1px rgba(0, 0, 0, 0.15);\n",
              "      filter: drop-shadow(0px 1px 2px rgba(0, 0, 0, 0.3));\n",
              "      fill: #FFFFFF;\n",
              "    }\n",
              "  </style>\n",
              "\n",
              "      <script>\n",
              "        const buttonEl =\n",
              "          document.querySelector('#df-d1e407e5-6168-466f-8502-752fc030b99e button.colab-df-convert');\n",
              "        buttonEl.style.display =\n",
              "          google.colab.kernel.accessAllowed ? 'block' : 'none';\n",
              "\n",
              "        async function convertToInteractive(key) {\n",
              "          const element = document.querySelector('#df-d1e407e5-6168-466f-8502-752fc030b99e');\n",
              "          const dataTable =\n",
              "            await google.colab.kernel.invokeFunction('convertToInteractive',\n",
              "                                                     [key], {});\n",
              "          if (!dataTable) return;\n",
              "\n",
              "          const docLinkHtml = 'Like what you see? Visit the ' +\n",
              "            '<a target=\"_blank\" href=https://colab.research.google.com/notebooks/data_table.ipynb>data table notebook</a>'\n",
              "            + ' to learn more about interactive tables.';\n",
              "          element.innerHTML = '';\n",
              "          dataTable['output_type'] = 'display_data';\n",
              "          await google.colab.output.renderOutput(dataTable, element);\n",
              "          const docLink = document.createElement('div');\n",
              "          docLink.innerHTML = docLinkHtml;\n",
              "          element.appendChild(docLink);\n",
              "        }\n",
              "      </script>\n",
              "    </div>\n",
              "  </div>\n",
              "  "
            ]
          },
          "metadata": {},
          "execution_count": 15
        }
      ]
    },
    {
      "cell_type": "code",
      "source": [
        "df['clean_tweet'].to_excel('sentiment.xlsx')"
      ],
      "metadata": {
        "id": "Q_jjRjZfU_VH"
      },
      "execution_count": null,
      "outputs": []
    },
    {
      "cell_type": "code",
      "execution_count": null,
      "metadata": {
        "id": "0_dHhhn2bHYL"
      },
      "outputs": [],
      "source": [
        "#Handling imbalance dataset\n",
        "# from imblearn.over_sampling import SMOTE\n",
        "# smote = SMOTE()\n",
        "# X, y = smote.fit_resample(df['clean_tweet'], df['Label'])"
      ]
    },
    {
      "cell_type": "markdown",
      "metadata": {
        "id": "QNJ7n2jXbzwl"
      },
      "source": [
        "# Test and Train split\n"
      ]
    },
    {
      "cell_type": "code",
      "execution_count": null,
      "metadata": {
        "id": "LQJjcE_Tb4JU"
      },
      "outputs": [],
      "source": [
        "from sklearn.model_selection import train_test_split\n",
        "\n",
        "# extract the labels from the train data\n",
        "y = df.Label.values\n",
        "\n",
        "# use 80% for the training and 20% for the test\n",
        "x_train, x_test, y_train, y_test = train_test_split(df.clean_tweet.values, y, \n",
        "                                                    stratify=y,\n",
        "                                                    random_state=1,\n",
        "                                                    test_size=0.4, shuffle=True)"
      ]
    },
    {
      "cell_type": "markdown",
      "metadata": {
        "id": "EP0vIgrcdMSM"
      },
      "source": [
        "# Vectorize tweets using CountVectorizer"
      ]
    },
    {
      "cell_type": "code",
      "execution_count": null,
      "metadata": {
        "colab": {
          "base_uri": "https://localhost:8080/"
        },
        "id": "reQP8v7Gb36g",
        "outputId": "dbcdfd5d-ebb4-4c0e-df82-f6eb09183276"
      },
      "outputs": [
        {
          "output_type": "stream",
          "name": "stderr",
          "text": [
            "/usr/local/lib/python3.7/dist-packages/sklearn/feature_extraction/text.py:401: UserWarning: Your stop_words may be inconsistent with your preprocessing. Tokenizing the stop words generated tokens ['baiknya', 'berkali', 'kali', 'kurangnya', 'mata', 'olah', 'sekurang', 'setidak', 'tama', 'tidaknya'] not in stop_words.\n",
            "  % sorted(inconsistent)\n"
          ]
        }
      ],
      "source": [
        "from sklearn.feature_extraction.text import CountVectorizer\n",
        "from spacy.lang.id.stop_words import STOP_WORDS\n",
        "\n",
        "# vectorize tweets for model building\n",
        "vectorizer = CountVectorizer(binary=True, stop_words=STOP_WORDS)\n",
        "\n",
        "# learn a vocabulary dictionary of all tokens in the raw documents\n",
        "vectorizer.fit(list(x_train) + list(x_test))\n",
        "\n",
        "# transform documents to document-term matrix\n",
        "x_train_vec = vectorizer.transform(x_train)\n",
        "x_test_vec = vectorizer.transform(x_test)"
      ]
    },
    {
      "cell_type": "markdown",
      "metadata": {
        "id": "nv02BKQ-ee_m"
      },
      "source": [
        "# Model building"
      ]
    },
    {
      "cell_type": "markdown",
      "metadata": {
        "id": "it_BrO5qehpR"
      },
      "source": [
        "Apply Support Vetor Classifier (SVC)"
      ]
    },
    {
      "cell_type": "code",
      "execution_count": null,
      "metadata": {
        "id": "VEXBqGBGeeG6"
      },
      "outputs": [],
      "source": [
        "from sklearn import svm\n",
        "# classify using support vector classifier\n",
        "svm = svm.SVC(kernel = 'linear', probability=True)\n",
        "\n",
        "# fit the SVC model based on the given training data\n",
        "prob = svm.fit(x_train_vec, y_train).predict_proba(x_test_vec)\n",
        "\n",
        "# perform classification and prediction on samples in x_test\n",
        "y_pred_svm = svm.predict(x_test_vec)"
      ]
    },
    {
      "cell_type": "markdown",
      "metadata": {
        "id": "8SJ5l9iehjBT"
      },
      "source": [
        "# Accuracy score for SVC\n"
      ]
    },
    {
      "cell_type": "code",
      "execution_count": null,
      "metadata": {
        "colab": {
          "base_uri": "https://localhost:8080/"
        },
        "id": "lERS4fXwea7B",
        "outputId": "42cc8fb2-6f48-47ec-ce88-050813e12a6a"
      },
      "outputs": [
        {
          "output_type": "stream",
          "name": "stdout",
          "text": [
            "Accuracy score for SVC is:  73.93364928909952 %\n"
          ]
        }
      ],
      "source": [
        "from sklearn.metrics import accuracy_score\n",
        "print(\"Accuracy score for SVC is: \", accuracy_score(y_test, y_pred_svm) * 100, '%')"
      ]
    },
    {
      "cell_type": "markdown",
      "source": [
        "# Evaluation Report"
      ],
      "metadata": {
        "id": "idp1fnyshT8x"
      }
    },
    {
      "cell_type": "code",
      "source": [
        "from sklearn.metrics import confusion_matrix, classification_report\n",
        "y_train_pred = svm.fit(x_train_vec, y_train).predict(x_train_vec)\n",
        "y_test_pred = svm.fit(x_train_vec, y_train).predict(x_test_vec)\n",
        "\n",
        "print('RANDOM FOREST TRAINING RESULT:')\n",
        "print('======================================================')\n",
        "print('Accuracy:', svm.fit(x_train_vec, y_train).score(x_train_vec, y_train))\n",
        "print('======================================================')\n",
        "print('Classification Report --------------------------------')\n",
        "print(classification_report(y_train, y_train_pred))\n",
        "print('======================================================')\n",
        "print('Confussion Matrix ------------------------------------')\n",
        "print(confusion_matrix(y_train, y_train_pred))\n",
        "\n",
        "print('\\n======================================================')\n",
        "\n",
        "print('\\n RANDOM FOREST TESTING RESULT:')\n",
        "print('======================================================')\n",
        "print('Accuracy:', svm.fit(x_train_vec, y_train).score(x_test_vec, y_test))\n",
        "print('======================================================')\n",
        "print('Classification Report --------------------------------')\n",
        "print(classification_report(y_test, y_test_pred))\n",
        "print('======================================================')\n",
        "print('Confussion Matrix ------------------------------------')\n",
        "print(confusion_matrix(y_test, y_test_pred))"
      ],
      "metadata": {
        "colab": {
          "base_uri": "https://localhost:8080/"
        },
        "id": "pD6SQ2lxhSzV",
        "outputId": "7fe71ca9-9dc0-4731-f429-d41b2b281f70"
      },
      "execution_count": null,
      "outputs": [
        {
          "output_type": "stream",
          "name": "stdout",
          "text": [
            "RANDOM FOREST TRAINING RESULT:\n",
            "======================================================\n",
            "Accuracy: 0.9936775553213909\n",
            "======================================================\n",
            "Classification Report --------------------------------\n",
            "              precision    recall  f1-score   support\n",
            "\n",
            "           0       0.99      1.00      1.00       716\n",
            "           1       1.00      0.98      0.99       233\n",
            "\n",
            "    accuracy                           0.99       949\n",
            "   macro avg       0.99      0.99      0.99       949\n",
            "weighted avg       0.99      0.99      0.99       949\n",
            "\n",
            "======================================================\n",
            "Confussion Matrix ------------------------------------\n",
            "[[715   1]\n",
            " [  5 228]]\n",
            "\n",
            "======================================================\n",
            "\n",
            " RANDOM FOREST TESTING RESULT:\n",
            "======================================================\n",
            "Accuracy: 0.7393364928909952\n",
            "======================================================\n",
            "Classification Report --------------------------------\n",
            "              precision    recall  f1-score   support\n",
            "\n",
            "           0       0.79      0.89      0.84       478\n",
            "           1       0.45      0.26      0.33       155\n",
            "\n",
            "    accuracy                           0.74       633\n",
            "   macro avg       0.62      0.58      0.59       633\n",
            "weighted avg       0.71      0.74      0.71       633\n",
            "\n",
            "======================================================\n",
            "Confussion Matrix ------------------------------------\n",
            "[[427  51]\n",
            " [114  41]]\n"
          ]
        }
      ]
    },
    {
      "cell_type": "markdown",
      "source": [
        "#2nd Trial"
      ],
      "metadata": {
        "id": "WLDb6r-Sir6a"
      }
    },
    {
      "cell_type": "code",
      "source": [
        "from sklearn.feature_extraction.text import CountVectorizer\n",
        "from spacy.lang.id.stop_words import STOP_WORDS\n",
        "\n",
        "# vectorize tweets for model building\n",
        "vectorizer = CountVectorizer(binary=True, stop_words=STOP_WORDS)\n",
        "\n",
        "# learn a vocabulary dictionary of all tokens in the raw documents\n",
        "vectorizer.fit(df['clean_tweet'].values)\n",
        "\n",
        "# transform documents to document-term matrix\n",
        "x_vec = vectorizer.transform(df['clean_tweet'].values)"
      ],
      "metadata": {
        "colab": {
          "base_uri": "https://localhost:8080/"
        },
        "id": "I_hn4rYqMiwk",
        "outputId": "c7fce31c-a6ff-4544-d40b-ee5672e6ba0e"
      },
      "execution_count": null,
      "outputs": [
        {
          "output_type": "stream",
          "name": "stderr",
          "text": [
            "/usr/local/lib/python3.7/dist-packages/sklearn/feature_extraction/text.py:401: UserWarning: Your stop_words may be inconsistent with your preprocessing. Tokenizing the stop words generated tokens ['baiknya', 'berkali', 'kali', 'kurangnya', 'mata', 'olah', 'sekurang', 'setidak', 'tama', 'tidaknya'] not in stop_words.\n",
            "  % sorted(inconsistent)\n"
          ]
        }
      ]
    },
    {
      "cell_type": "code",
      "source": [
        "#Handling imbalance dataset\n",
        "from imblearn.over_sampling import SMOTE\n",
        "smote = SMOTE()\n",
        "X, y = smote.fit_resample(x_vec, df['Label'])"
      ],
      "metadata": {
        "id": "ziEO-d9iMHqu"
      },
      "execution_count": null,
      "outputs": []
    },
    {
      "cell_type": "code",
      "source": [
        "from sklearn.model_selection import train_test_split\n",
        "\n",
        "# use 80% for the training and 20% for the test\n",
        "x_train, x_test, y_train, y_test = train_test_split(X, y, \n",
        "                                                    stratify=y, \n",
        "                                                    random_state=1,\n",
        "                                                    test_size=0.2, shuffle=True)"
      ],
      "metadata": {
        "id": "9r7QVpaujmDh"
      },
      "execution_count": null,
      "outputs": []
    },
    {
      "cell_type": "code",
      "source": [
        "from sklearn import svm\n",
        "# classify using support vector classifier\n",
        "svm = svm.SVC(C=1, gamma=0.1, kernel='rbf', probability=True)\n",
        "\n",
        "# fit the SVC model based on the given training data\n",
        "prob = svm.fit(x_train, y_train)\n",
        "\n",
        "# perform classification and prediction on samples in x_test\n",
        "y_pred_svm = svm.predict(x_test)"
      ],
      "metadata": {
        "id": "uCSkH3LSjwJj"
      },
      "execution_count": null,
      "outputs": []
    },
    {
      "cell_type": "code",
      "source": [
        "from sklearn.metrics import accuracy_score\n",
        "print(\"Accuracy score for SVC is: \", accuracy_score(y_test, y_pred_svm) * 100, '%')"
      ],
      "metadata": {
        "colab": {
          "base_uri": "https://localhost:8080/"
        },
        "id": "R3D40VtPj2Kc",
        "outputId": "d3c0fcc3-3bd9-4008-dce9-38e35c29e432"
      },
      "execution_count": null,
      "outputs": [
        {
          "output_type": "stream",
          "name": "stdout",
          "text": [
            "Accuracy score for SVC is:  77.19665271966527 %\n"
          ]
        }
      ]
    },
    {
      "cell_type": "code",
      "source": [
        "from sklearn.metrics import confusion_matrix, classification_report\n",
        "y_train_pred = svm.fit(x_train, y_train).predict(x_train)\n",
        "y_test_pred = svm.fit(x_train, y_train).predict(x_test)\n",
        "\n",
        "print('SUPPORT VECTOR MACHINE TRAINING RESULT:')\n",
        "print('======================================================')\n",
        "print('Accuracy:', svm.fit(x_train, y_train).score(x_train, y_train))\n",
        "print('======================================================')\n",
        "print('Classification Report --------------------------------')\n",
        "print(classification_report(y_train, y_train_pred))\n",
        "print('======================================================')\n",
        "print('Confussion Matrix ------------------------------------')\n",
        "print(confusion_matrix(y_train, y_train_pred))\n",
        "\n",
        "print('\\n======================================================')\n",
        "\n",
        "print('\\n SUPPORT VECTOR MACHINE TESTING RESULT:')\n",
        "print('======================================================')\n",
        "print('Accuracy:', svm.fit(x_train, y_train).score(x_test, y_test))\n",
        "print('======================================================')\n",
        "print('Classification Report --------------------------------')\n",
        "print(classification_report(y_test, y_test_pred))\n",
        "print('======================================================')\n",
        "print('Confussion Matrix ------------------------------------')\n",
        "print(confusion_matrix(y_test, y_test_pred))"
      ],
      "metadata": {
        "colab": {
          "base_uri": "https://localhost:8080/"
        },
        "id": "Wo4HtefWj6_h",
        "outputId": "7899830c-84ca-4edd-a807-05be5ba103e5"
      },
      "execution_count": null,
      "outputs": [
        {
          "output_type": "stream",
          "name": "stdout",
          "text": [
            "RANDOM FOREST TRAINING RESULT:\n",
            "======================================================\n",
            "Accuracy: 0.937696335078534\n",
            "======================================================\n",
            "Classification Report --------------------------------\n",
            "              precision    recall  f1-score   support\n",
            "\n",
            "           0       0.94      0.93      0.94       955\n",
            "           1       0.93      0.94      0.94       955\n",
            "\n",
            "    accuracy                           0.94      1910\n",
            "   macro avg       0.94      0.94      0.94      1910\n",
            "weighted avg       0.94      0.94      0.94      1910\n",
            "\n",
            "======================================================\n",
            "Confussion Matrix ------------------------------------\n",
            "[[892  63]\n",
            " [ 56 899]]\n",
            "\n",
            "======================================================\n",
            "\n",
            " RANDOM FOREST TESTING RESULT:\n",
            "======================================================\n",
            "Accuracy: 0.7719665271966527\n",
            "======================================================\n",
            "Classification Report --------------------------------\n",
            "              precision    recall  f1-score   support\n",
            "\n",
            "           0       0.74      0.83      0.78       239\n",
            "           1       0.81      0.72      0.76       239\n",
            "\n",
            "    accuracy                           0.77       478\n",
            "   macro avg       0.78      0.77      0.77       478\n",
            "weighted avg       0.78      0.77      0.77       478\n",
            "\n",
            "======================================================\n",
            "Confussion Matrix ------------------------------------\n",
            "[[198  41]\n",
            " [ 68 171]]\n"
          ]
        }
      ]
    },
    {
      "cell_type": "markdown",
      "source": [
        "#Hyper-Tuning"
      ],
      "metadata": {
        "id": "W7QA_M2EwikB"
      }
    },
    {
      "cell_type": "code",
      "source": [
        "from sklearn.model_selection import GridSearchCV\n",
        "from sklearn.metrics import classification_report\n",
        "from sklearn.svm import SVC\n",
        "\n",
        "\n",
        "tuned_parameters = [{'kernel': ['linear', 'poly', 'rbf', 'sigmoid'],\n",
        "                     'C': [0.5, 1],\n",
        "                     'gamma': [0.1, 0.01],\n",
        "                     'probability':[True, False]}\n",
        "                   ]\n",
        "\n",
        "clf = GridSearchCV(SVC(), tuned_parameters, scoring='accuracy')\n",
        "clf.fit(x_test, y_test)\n",
        "\n",
        "\n",
        "print(\"Best parameters set found on development set:\\n\")\n",
        "print(clf.best_params_)\n",
        "print(\"\\nGrid scores on development set:\\n\")\n",
        "means = clf.cv_results_['mean_test_score']\n",
        "stds = clf.cv_results_['std_test_score']\n",
        "for mean, std, params in zip(means, stds, clf.cv_results_['params']):\n",
        "    print(\"%0.3f (+/-%0.03f) for %r\"\n",
        "          % (mean, std * 2, params))\n",
        "\n",
        "print(\"\\nDetailed classification report:\\n\")\n",
        "print(\"The model is trained on the full development set.\")\n",
        "print(\"The scores are computed on the full evaluation set.\")\n",
        "\n",
        "y_true, y_pred = y_test, clf.predict(x_test)\n",
        "\n",
        "print(classification_report(y_true, y_pred))"
      ],
      "metadata": {
        "colab": {
          "base_uri": "https://localhost:8080/"
        },
        "id": "kraAMC-u0ZY8",
        "outputId": "39eca973-c439-47b6-f279-aac4489e9eb6"
      },
      "execution_count": null,
      "outputs": [
        {
          "output_type": "stream",
          "name": "stdout",
          "text": [
            "Best parameters set found on development set:\n",
            "\n",
            "{'C': 1, 'gamma': 0.1, 'kernel': 'rbf', 'probability': True}\n",
            "\n",
            "Grid scores on development set:\n",
            "\n",
            "0.678 (+/-0.093) for {'C': 0.5, 'gamma': 0.1, 'kernel': 'linear', 'probability': True}\n",
            "0.678 (+/-0.093) for {'C': 0.5, 'gamma': 0.1, 'kernel': 'linear', 'probability': False}\n",
            "0.515 (+/-0.034) for {'C': 0.5, 'gamma': 0.1, 'kernel': 'poly', 'probability': True}\n",
            "0.515 (+/-0.034) for {'C': 0.5, 'gamma': 0.1, 'kernel': 'poly', 'probability': False}\n",
            "0.766 (+/-0.142) for {'C': 0.5, 'gamma': 0.1, 'kernel': 'rbf', 'probability': True}\n",
            "0.766 (+/-0.142) for {'C': 0.5, 'gamma': 0.1, 'kernel': 'rbf', 'probability': False}\n",
            "0.632 (+/-0.064) for {'C': 0.5, 'gamma': 0.1, 'kernel': 'sigmoid', 'probability': True}\n",
            "0.632 (+/-0.064) for {'C': 0.5, 'gamma': 0.1, 'kernel': 'sigmoid', 'probability': False}\n",
            "0.678 (+/-0.093) for {'C': 0.5, 'gamma': 0.01, 'kernel': 'linear', 'probability': True}\n",
            "0.678 (+/-0.093) for {'C': 0.5, 'gamma': 0.01, 'kernel': 'linear', 'probability': False}\n",
            "0.525 (+/-0.111) for {'C': 0.5, 'gamma': 0.01, 'kernel': 'poly', 'probability': True}\n",
            "0.525 (+/-0.111) for {'C': 0.5, 'gamma': 0.01, 'kernel': 'poly', 'probability': False}\n",
            "0.638 (+/-0.095) for {'C': 0.5, 'gamma': 0.01, 'kernel': 'rbf', 'probability': True}\n",
            "0.638 (+/-0.095) for {'C': 0.5, 'gamma': 0.01, 'kernel': 'rbf', 'probability': False}\n",
            "0.546 (+/-0.122) for {'C': 0.5, 'gamma': 0.01, 'kernel': 'sigmoid', 'probability': True}\n",
            "0.546 (+/-0.122) for {'C': 0.5, 'gamma': 0.01, 'kernel': 'sigmoid', 'probability': False}\n",
            "0.694 (+/-0.087) for {'C': 1, 'gamma': 0.1, 'kernel': 'linear', 'probability': True}\n",
            "0.694 (+/-0.087) for {'C': 1, 'gamma': 0.1, 'kernel': 'linear', 'probability': False}\n",
            "0.515 (+/-0.053) for {'C': 1, 'gamma': 0.1, 'kernel': 'poly', 'probability': True}\n",
            "0.515 (+/-0.053) for {'C': 1, 'gamma': 0.1, 'kernel': 'poly', 'probability': False}\n",
            "0.768 (+/-0.149) for {'C': 1, 'gamma': 0.1, 'kernel': 'rbf', 'probability': True}\n",
            "0.768 (+/-0.149) for {'C': 1, 'gamma': 0.1, 'kernel': 'rbf', 'probability': False}\n",
            "0.648 (+/-0.088) for {'C': 1, 'gamma': 0.1, 'kernel': 'sigmoid', 'probability': True}\n",
            "0.648 (+/-0.088) for {'C': 1, 'gamma': 0.1, 'kernel': 'sigmoid', 'probability': False}\n",
            "0.694 (+/-0.087) for {'C': 1, 'gamma': 0.01, 'kernel': 'linear', 'probability': True}\n",
            "0.694 (+/-0.087) for {'C': 1, 'gamma': 0.01, 'kernel': 'linear', 'probability': False}\n",
            "0.525 (+/-0.111) for {'C': 1, 'gamma': 0.01, 'kernel': 'poly', 'probability': True}\n",
            "0.525 (+/-0.111) for {'C': 1, 'gamma': 0.01, 'kernel': 'poly', 'probability': False}\n",
            "0.676 (+/-0.112) for {'C': 1, 'gamma': 0.01, 'kernel': 'rbf', 'probability': True}\n",
            "0.676 (+/-0.112) for {'C': 1, 'gamma': 0.01, 'kernel': 'rbf', 'probability': False}\n",
            "0.571 (+/-0.101) for {'C': 1, 'gamma': 0.01, 'kernel': 'sigmoid', 'probability': True}\n",
            "0.571 (+/-0.101) for {'C': 1, 'gamma': 0.01, 'kernel': 'sigmoid', 'probability': False}\n",
            "\n",
            "Detailed classification report:\n",
            "\n",
            "The model is trained on the full development set.\n",
            "The scores are computed on the full evaluation set.\n",
            "              precision    recall  f1-score   support\n",
            "\n",
            "           0       0.97      0.94      0.96       239\n",
            "           1       0.94      0.97      0.96       239\n",
            "\n",
            "    accuracy                           0.96       478\n",
            "   macro avg       0.96      0.96      0.96       478\n",
            "weighted avg       0.96      0.96      0.96       478\n",
            "\n"
          ]
        }
      ]
    },
    {
      "cell_type": "markdown",
      "source": [
        "#Another model"
      ],
      "metadata": {
        "id": "PHldB36eYMNr"
      }
    },
    {
      "cell_type": "code",
      "source": [
        "from sklearn.feature_extraction.text import CountVectorizer\n",
        "count_vect = CountVectorizer(binary=True, stop_words=STOP_WORDS)\n",
        "X_train_counts = count_vect.fit_transform(list(x_train) + list(x_test))\n",
        "X_train_counts.shape"
      ],
      "metadata": {
        "colab": {
          "base_uri": "https://localhost:8080/"
        },
        "id": "FPXrNS_YYEeH",
        "outputId": "7f6d56d2-3322-4a1a-d2b2-a216bc8f8ec4"
      },
      "execution_count": null,
      "outputs": [
        {
          "output_type": "stream",
          "name": "stderr",
          "text": [
            "/usr/local/lib/python3.7/dist-packages/sklearn/feature_extraction/text.py:401: UserWarning: Your stop_words may be inconsistent with your preprocessing. Tokenizing the stop words generated tokens ['baiknya', 'berkali', 'kali', 'kurangnya', 'mata', 'olah', 'sekurang', 'setidak', 'tama', 'tidaknya'] not in stop_words.\n",
            "  % sorted(inconsistent)\n"
          ]
        },
        {
          "output_type": "execute_result",
          "data": {
            "text/plain": [
              "(1582, 7250)"
            ]
          },
          "metadata": {},
          "execution_count": 88
        }
      ]
    },
    {
      "cell_type": "code",
      "source": [
        "from sklearn.feature_extraction.text import TfidfTransformer\n",
        "tf_transformer = TfidfTransformer(use_idf=False).fit(X_train_counts)\n",
        "X_train_tf = tf_transformer.transform(X_train_counts)\n",
        "X_train_tf.shape"
      ],
      "metadata": {
        "colab": {
          "base_uri": "https://localhost:8080/"
        },
        "id": "YI9mM-RqYqXW",
        "outputId": "42b0ff9d-b15a-4f3f-e27e-757ed0ac276e"
      },
      "execution_count": null,
      "outputs": [
        {
          "output_type": "execute_result",
          "data": {
            "text/plain": [
              "(1582, 7250)"
            ]
          },
          "metadata": {},
          "execution_count": 89
        }
      ]
    },
    {
      "cell_type": "code",
      "source": [
        "tfidf_transformer = TfidfTransformer()\n",
        "X_train_tfidf = tfidf_transformer.fit_transform(X_train_counts)\n",
        "X_train_tfidf.shape"
      ],
      "metadata": {
        "colab": {
          "base_uri": "https://localhost:8080/"
        },
        "id": "H_PnljXQjL81",
        "outputId": "905dd9a8-3c4a-44b4-d713-c1193e71a932"
      },
      "execution_count": null,
      "outputs": [
        {
          "output_type": "execute_result",
          "data": {
            "text/plain": [
              "(1582, 7250)"
            ]
          },
          "metadata": {},
          "execution_count": 98
        }
      ]
    },
    {
      "cell_type": "code",
      "source": [
        "X_train_tfidf"
      ],
      "metadata": {
        "colab": {
          "base_uri": "https://localhost:8080/"
        },
        "id": "r9kaLEb5jYNI",
        "outputId": "fe473a5b-665d-4e7d-f0f2-3b136edea909"
      },
      "execution_count": null,
      "outputs": [
        {
          "output_type": "execute_result",
          "data": {
            "text/plain": [
              "<1582x7250 sparse matrix of type '<class 'numpy.float64'>'\n",
              "\twith 23322 stored elements in Compressed Sparse Row format>"
            ]
          },
          "metadata": {},
          "execution_count": 101
        }
      ]
    },
    {
      "cell_type": "code",
      "source": [
        "from sklearn.pipeline import Pipeline\n",
        "from sklearn.linear_model import SGDClassifier\n",
        "text_clf = Pipeline([\n",
        "     ('vect', CountVectorizer()),\n",
        "     ('tfidf', TfidfTransformer()),\n",
        "     ('clf', SGDClassifier(loss='hinge', penalty='l2',\n",
        "                           alpha=1e-3, random_state=42,\n",
        "                           max_iter=5, tol=None)),\n",
        " ])"
      ],
      "metadata": {
        "id": "uq1MnvOQYz8E"
      },
      "execution_count": null,
      "outputs": []
    },
    {
      "cell_type": "code",
      "source": [
        "text_clf.fit(X_train_tfidf, y_train)\n",
        "predicted = text_clf.predict(x_test)\n",
        "np.mean(predicted == y_test)"
      ],
      "metadata": {
        "id": "87nYtIwjZKRg"
      },
      "execution_count": null,
      "outputs": []
    },
    {
      "cell_type": "code",
      "source": [
        "from sklearn import metrics\n",
        "print(metrics.classification_report(y_test, predicted))"
      ],
      "metadata": {
        "colab": {
          "base_uri": "https://localhost:8080/"
        },
        "id": "hB49dhWSaPsg",
        "outputId": "9dc733ee-cb50-4fbf-a930-30de8392656d"
      },
      "execution_count": null,
      "outputs": [
        {
          "output_type": "stream",
          "name": "stdout",
          "text": [
            "              precision    recall  f1-score   support\n",
            "\n",
            "           0       0.76      0.99      0.86       478\n",
            "           1       0.56      0.06      0.11       155\n",
            "\n",
            "    accuracy                           0.76       633\n",
            "   macro avg       0.66      0.52      0.48       633\n",
            "weighted avg       0.71      0.76      0.68       633\n",
            "\n"
          ]
        }
      ]
    },
    {
      "cell_type": "code",
      "source": [
        "from sklearn.model_selection import GridSearchCV\n",
        "parameters = {\n",
        "     'vect__ngram_range': [(1, 1), (1, 2)],\n",
        "     'tfidf__use_idf': (True, False),\n",
        "     'clf__alpha': (1e-2, 1e-3),\n",
        " }"
      ],
      "metadata": {
        "id": "FXwjyuSLbJFW"
      },
      "execution_count": null,
      "outputs": []
    },
    {
      "cell_type": "code",
      "source": [
        "gs_clf = GridSearchCV(text_clf, parameters, cv=10, n_jobs=-1)"
      ],
      "metadata": {
        "id": "OGQAZvRzbQTw"
      },
      "execution_count": null,
      "outputs": []
    },
    {
      "cell_type": "code",
      "source": [
        "gs_clf = gs_clf.fit(x_train, y_train)"
      ],
      "metadata": {
        "id": "9I9ObFhQbT7M"
      },
      "execution_count": null,
      "outputs": []
    },
    {
      "cell_type": "code",
      "source": [
        "gs_clf.best_score_"
      ],
      "metadata": {
        "colab": {
          "base_uri": "https://localhost:8080/"
        },
        "id": "LGzReiDtba_M",
        "outputId": "4c3a6a4c-491e-4a78-c969-c9ee079a58b7"
      },
      "execution_count": null,
      "outputs": [
        {
          "output_type": "execute_result",
          "data": {
            "text/plain": [
              "0.7618365061590145"
            ]
          },
          "metadata": {},
          "execution_count": 96
        }
      ]
    },
    {
      "cell_type": "code",
      "source": [
        "for param_name in sorted(parameters.keys()):\n",
        "    print(\"%s: %r\" % (param_name, gs_clf.best_params_[param_name]))"
      ],
      "metadata": {
        "colab": {
          "base_uri": "https://localhost:8080/"
        },
        "id": "EITGadFfbh4n",
        "outputId": "1f0c99aa-6803-4c0c-ed71-25be5dcfd283"
      },
      "execution_count": null,
      "outputs": [
        {
          "output_type": "stream",
          "name": "stdout",
          "text": [
            "clf__alpha: 0.001\n",
            "tfidf__use_idf: True\n",
            "vect__ngram_range: (1, 1)\n"
          ]
        }
      ]
    },
    {
      "cell_type": "markdown",
      "source": [
        "#Using TFIDF"
      ],
      "metadata": {
        "id": "MkvJsI3hFbJk"
      }
    },
    {
      "cell_type": "code",
      "source": [
        "from sklearn.feature_extraction.text import TfidfVectorizer\n",
        "from spacy.lang.id.stop_words import STOP_WORDS\n",
        "\n",
        "# create the transform\n",
        "vectorizer = TfidfVectorizer(stop_words=STOP_WORDS)\n",
        "\n",
        "# tokenize and build vocab\n",
        "vectorizer.fit(df['clean_tweet'].values)\n",
        "\n",
        "x_vec = vectorizer.transform(df['clean_tweet'].values)"
      ],
      "metadata": {
        "colab": {
          "base_uri": "https://localhost:8080/"
        },
        "id": "DUzp6fUvFdWt",
        "outputId": "d5b17a35-7e7a-4d48-973b-bfa0d355ceb2"
      },
      "execution_count": null,
      "outputs": [
        {
          "output_type": "stream",
          "name": "stderr",
          "text": [
            "/usr/local/lib/python3.7/dist-packages/sklearn/feature_extraction/text.py:401: UserWarning: Your stop_words may be inconsistent with your preprocessing. Tokenizing the stop words generated tokens ['baiknya', 'berkali', 'kali', 'kurangnya', 'mata', 'olah', 'sekurang', 'setidak', 'tama', 'tidaknya'] not in stop_words.\n",
            "  % sorted(inconsistent)\n"
          ]
        }
      ]
    },
    {
      "cell_type": "code",
      "source": [
        "#Handling imbalance dataset\n",
        "from imblearn.over_sampling import SMOTE\n",
        "smote = SMOTE()\n",
        "X, y = smote.fit_resample(x_vec, df['Label'])"
      ],
      "metadata": {
        "id": "K6WNOg08HWCS"
      },
      "execution_count": null,
      "outputs": []
    },
    {
      "cell_type": "code",
      "source": [
        "from sklearn.model_selection import train_test_split\n",
        "\n",
        "# use 80% for the training and 20% for the test\n",
        "x_train, x_test, y_train, y_test = train_test_split(X, y, \n",
        "                                                    stratify=y, \n",
        "                                                    random_state=1,\n",
        "                                                    test_size=0.2)"
      ],
      "metadata": {
        "id": "tF-TPYgtHX78"
      },
      "execution_count": null,
      "outputs": []
    },
    {
      "cell_type": "code",
      "source": [
        "from sklearn import svm\n",
        "# classify using support vector classifier\n",
        "svm_1 = svm.SVC(C=1, gamma=0.1, kernel='rbf', probability=True)\n",
        "\n",
        "# fit the SVC model based on the given training data\n",
        "prob = svm_1.fit(x_train, y_train)\n",
        "\n",
        "# perform classification and prediction on samples in x_test\n",
        "y_pred_svm = svm_1.predict(x_test)"
      ],
      "metadata": {
        "id": "Sr6fhvmkH2rx"
      },
      "execution_count": null,
      "outputs": []
    },
    {
      "cell_type": "code",
      "source": [
        "from sklearn.metrics import confusion_matrix, classification_report\n",
        "y_train_pred = svm_1.fit(x_train, y_train).predict(x_train)\n",
        "y_test_pred = svm_1.fit(x_train, y_train).predict(x_test)\n",
        "\n",
        "print('SUPPORT VECTOR MACHINE TRAINING RESULT:')\n",
        "print('======================================================')\n",
        "print('Accuracy:', svm_1.fit(x_train, y_train).score(x_train, y_train))\n",
        "print('======================================================')\n",
        "print('Classification Report --------------------------------')\n",
        "print(classification_report(y_train, y_train_pred))\n",
        "print('======================================================')\n",
        "print('Confussion Matrix ------------------------------------')\n",
        "print(confusion_matrix(y_train, y_train_pred))\n",
        "\n",
        "print('\\n======================================================')\n",
        "\n",
        "print('\\n SUPPORT VECTOR MACHINE TESTING RESULT:')\n",
        "print('======================================================')\n",
        "print('Accuracy:', svm_1.fit(x_train, y_train).score(x_test, y_test))\n",
        "print('======================================================')\n",
        "print('Classification Report --------------------------------')\n",
        "print(classification_report(y_test, y_test_pred))\n",
        "print('======================================================')\n",
        "print('Confussion Matrix ------------------------------------')\n",
        "print(confusion_matrix(y_test, y_test_pred))"
      ],
      "metadata": {
        "colab": {
          "base_uri": "https://localhost:8080/"
        },
        "id": "Bq5-H9JnH_WY",
        "outputId": "f3de6b82-6a88-44d6-c665-4bd3a38d2ccf"
      },
      "execution_count": null,
      "outputs": [
        {
          "output_type": "stream",
          "name": "stdout",
          "text": [
            "SUPPORT VECTOR MACHINE TRAINING RESULT:\n",
            "======================================================\n",
            "Accuracy: 0.8701570680628272\n",
            "======================================================\n",
            "Classification Report --------------------------------\n",
            "              precision    recall  f1-score   support\n",
            "\n",
            "           0       0.81      0.97      0.88       955\n",
            "           1       0.96      0.77      0.86       955\n",
            "\n",
            "    accuracy                           0.87      1910\n",
            "   macro avg       0.88      0.87      0.87      1910\n",
            "weighted avg       0.88      0.87      0.87      1910\n",
            "\n",
            "======================================================\n",
            "Confussion Matrix ------------------------------------\n",
            "[[924  31]\n",
            " [217 738]]\n",
            "\n",
            "======================================================\n",
            "\n",
            " SUPPORT VECTOR MACHINE TESTING RESULT:\n",
            "======================================================\n",
            "Accuracy: 0.8410041841004184\n",
            "======================================================\n",
            "Classification Report --------------------------------\n",
            "              precision    recall  f1-score   support\n",
            "\n",
            "           0       0.77      0.98      0.86       239\n",
            "           1       0.97      0.70      0.82       239\n",
            "\n",
            "    accuracy                           0.84       478\n",
            "   macro avg       0.87      0.84      0.84       478\n",
            "weighted avg       0.87      0.84      0.84       478\n",
            "\n",
            "======================================================\n",
            "Confussion Matrix ------------------------------------\n",
            "[[234   5]\n",
            " [ 71 168]]\n"
          ]
        }
      ]
    },
    {
      "cell_type": "code",
      "source": [
        "scrappp['result'] = pd.DataFrame(prediction_result)"
      ],
      "metadata": {
        "id": "W_aeV7tRtvW4"
      },
      "execution_count": null,
      "outputs": []
    },
    {
      "cell_type": "code",
      "source": [
        "scrappp[scrappp['result']==1]"
      ],
      "metadata": {
        "colab": {
          "base_uri": "https://localhost:8080/",
          "height": 81
        },
        "id": "aH6dLEaEt1cs",
        "outputId": "8b8392f2-e99c-4cd5-87b4-ed733082ff4e"
      },
      "execution_count": null,
      "outputs": [
        {
          "output_type": "execute_result",
          "data": {
            "text/plain": [
              "                                                title  \\\n",
              "55  Penolakan UAS oleh Singapura, Ulama Madura: Sa...   \n",
              "\n",
              "                                              content  result  \n",
              "55  TIMESINDONESIA, JAKARTA – Penolakan Ustaz Abdu...       1  "
            ],
            "text/html": [
              "\n",
              "  <div id=\"df-f5f15e89-beed-4828-a3de-0d980dbb59be\">\n",
              "    <div class=\"colab-df-container\">\n",
              "      <div>\n",
              "<style scoped>\n",
              "    .dataframe tbody tr th:only-of-type {\n",
              "        vertical-align: middle;\n",
              "    }\n",
              "\n",
              "    .dataframe tbody tr th {\n",
              "        vertical-align: top;\n",
              "    }\n",
              "\n",
              "    .dataframe thead th {\n",
              "        text-align: right;\n",
              "    }\n",
              "</style>\n",
              "<table border=\"1\" class=\"dataframe\">\n",
              "  <thead>\n",
              "    <tr style=\"text-align: right;\">\n",
              "      <th></th>\n",
              "      <th>title</th>\n",
              "      <th>content</th>\n",
              "      <th>result</th>\n",
              "    </tr>\n",
              "  </thead>\n",
              "  <tbody>\n",
              "    <tr>\n",
              "      <th>55</th>\n",
              "      <td>Penolakan UAS oleh Singapura, Ulama Madura: Sa...</td>\n",
              "      <td>TIMESINDONESIA, JAKARTA – Penolakan Ustaz Abdu...</td>\n",
              "      <td>1</td>\n",
              "    </tr>\n",
              "  </tbody>\n",
              "</table>\n",
              "</div>\n",
              "      <button class=\"colab-df-convert\" onclick=\"convertToInteractive('df-f5f15e89-beed-4828-a3de-0d980dbb59be')\"\n",
              "              title=\"Convert this dataframe to an interactive table.\"\n",
              "              style=\"display:none;\">\n",
              "        \n",
              "  <svg xmlns=\"http://www.w3.org/2000/svg\" height=\"24px\"viewBox=\"0 0 24 24\"\n",
              "       width=\"24px\">\n",
              "    <path d=\"M0 0h24v24H0V0z\" fill=\"none\"/>\n",
              "    <path d=\"M18.56 5.44l.94 2.06.94-2.06 2.06-.94-2.06-.94-.94-2.06-.94 2.06-2.06.94zm-11 1L8.5 8.5l.94-2.06 2.06-.94-2.06-.94L8.5 2.5l-.94 2.06-2.06.94zm10 10l.94 2.06.94-2.06 2.06-.94-2.06-.94-.94-2.06-.94 2.06-2.06.94z\"/><path d=\"M17.41 7.96l-1.37-1.37c-.4-.4-.92-.59-1.43-.59-.52 0-1.04.2-1.43.59L10.3 9.45l-7.72 7.72c-.78.78-.78 2.05 0 2.83L4 21.41c.39.39.9.59 1.41.59.51 0 1.02-.2 1.41-.59l7.78-7.78 2.81-2.81c.8-.78.8-2.07 0-2.86zM5.41 20L4 18.59l7.72-7.72 1.47 1.35L5.41 20z\"/>\n",
              "  </svg>\n",
              "      </button>\n",
              "      \n",
              "  <style>\n",
              "    .colab-df-container {\n",
              "      display:flex;\n",
              "      flex-wrap:wrap;\n",
              "      gap: 12px;\n",
              "    }\n",
              "\n",
              "    .colab-df-convert {\n",
              "      background-color: #E8F0FE;\n",
              "      border: none;\n",
              "      border-radius: 50%;\n",
              "      cursor: pointer;\n",
              "      display: none;\n",
              "      fill: #1967D2;\n",
              "      height: 32px;\n",
              "      padding: 0 0 0 0;\n",
              "      width: 32px;\n",
              "    }\n",
              "\n",
              "    .colab-df-convert:hover {\n",
              "      background-color: #E2EBFA;\n",
              "      box-shadow: 0px 1px 2px rgba(60, 64, 67, 0.3), 0px 1px 3px 1px rgba(60, 64, 67, 0.15);\n",
              "      fill: #174EA6;\n",
              "    }\n",
              "\n",
              "    [theme=dark] .colab-df-convert {\n",
              "      background-color: #3B4455;\n",
              "      fill: #D2E3FC;\n",
              "    }\n",
              "\n",
              "    [theme=dark] .colab-df-convert:hover {\n",
              "      background-color: #434B5C;\n",
              "      box-shadow: 0px 1px 3px 1px rgba(0, 0, 0, 0.15);\n",
              "      filter: drop-shadow(0px 1px 2px rgba(0, 0, 0, 0.3));\n",
              "      fill: #FFFFFF;\n",
              "    }\n",
              "  </style>\n",
              "\n",
              "      <script>\n",
              "        const buttonEl =\n",
              "          document.querySelector('#df-f5f15e89-beed-4828-a3de-0d980dbb59be button.colab-df-convert');\n",
              "        buttonEl.style.display =\n",
              "          google.colab.kernel.accessAllowed ? 'block' : 'none';\n",
              "\n",
              "        async function convertToInteractive(key) {\n",
              "          const element = document.querySelector('#df-f5f15e89-beed-4828-a3de-0d980dbb59be');\n",
              "          const dataTable =\n",
              "            await google.colab.kernel.invokeFunction('convertToInteractive',\n",
              "                                                     [key], {});\n",
              "          if (!dataTable) return;\n",
              "\n",
              "          const docLinkHtml = 'Like what you see? Visit the ' +\n",
              "            '<a target=\"_blank\" href=https://colab.research.google.com/notebooks/data_table.ipynb>data table notebook</a>'\n",
              "            + ' to learn more about interactive tables.';\n",
              "          element.innerHTML = '';\n",
              "          dataTable['output_type'] = 'display_data';\n",
              "          await google.colab.output.renderOutput(dataTable, element);\n",
              "          const docLink = document.createElement('div');\n",
              "          docLink.innerHTML = docLinkHtml;\n",
              "          element.appendChild(docLink);\n",
              "        }\n",
              "      </script>\n",
              "    </div>\n",
              "  </div>\n",
              "  "
            ]
          },
          "metadata": {},
          "execution_count": 21
        }
      ]
    },
    {
      "cell_type": "code",
      "source": [
        "testify_vec2 = vectorizer.transform(scrappp['content'].values)"
      ],
      "metadata": {
        "id": "BZFNMYkrc7HL"
      },
      "execution_count": null,
      "outputs": []
    },
    {
      "cell_type": "code",
      "source": [
        "prediction_result2 = svm_1.fit(x_train, y_train).predict(testify_vec2)"
      ],
      "metadata": {
        "id": "w8i8n0Obc-E3"
      },
      "execution_count": null,
      "outputs": []
    },
    {
      "cell_type": "code",
      "source": [
        "scrappp['result_for_content'] = pd.DataFrame(prediction_result2)"
      ],
      "metadata": {
        "id": "MrijwO9JdCWm"
      },
      "execution_count": null,
      "outputs": []
    },
    {
      "cell_type": "code",
      "source": [
        "scrappp[scrappp['result_for_content']==1]"
      ],
      "metadata": {
        "id": "mlqvSUuqe6Qa",
        "outputId": "d8b13936-01e7-4d67-b8a0-6b3dcad77186",
        "colab": {
          "base_uri": "https://localhost:8080/",
          "height": 81
        }
      },
      "execution_count": null,
      "outputs": [
        {
          "output_type": "execute_result",
          "data": {
            "text/plain": [
              "                                                title  \\\n",
              "55  Penolakan UAS oleh Singapura, Ulama Madura: Sa...   \n",
              "\n",
              "                                              content  result  \\\n",
              "55  TIMESINDONESIA, JAKARTA – Penolakan Ustaz Abdu...       1   \n",
              "\n",
              "    result_for_content  \n",
              "55                   1  "
            ],
            "text/html": [
              "\n",
              "  <div id=\"df-edfd33de-ddda-4242-bd6a-ab0f1869d1c8\">\n",
              "    <div class=\"colab-df-container\">\n",
              "      <div>\n",
              "<style scoped>\n",
              "    .dataframe tbody tr th:only-of-type {\n",
              "        vertical-align: middle;\n",
              "    }\n",
              "\n",
              "    .dataframe tbody tr th {\n",
              "        vertical-align: top;\n",
              "    }\n",
              "\n",
              "    .dataframe thead th {\n",
              "        text-align: right;\n",
              "    }\n",
              "</style>\n",
              "<table border=\"1\" class=\"dataframe\">\n",
              "  <thead>\n",
              "    <tr style=\"text-align: right;\">\n",
              "      <th></th>\n",
              "      <th>title</th>\n",
              "      <th>content</th>\n",
              "      <th>result</th>\n",
              "      <th>result_for_content</th>\n",
              "    </tr>\n",
              "  </thead>\n",
              "  <tbody>\n",
              "    <tr>\n",
              "      <th>55</th>\n",
              "      <td>Penolakan UAS oleh Singapura, Ulama Madura: Sa...</td>\n",
              "      <td>TIMESINDONESIA, JAKARTA – Penolakan Ustaz Abdu...</td>\n",
              "      <td>1</td>\n",
              "      <td>1</td>\n",
              "    </tr>\n",
              "  </tbody>\n",
              "</table>\n",
              "</div>\n",
              "      <button class=\"colab-df-convert\" onclick=\"convertToInteractive('df-edfd33de-ddda-4242-bd6a-ab0f1869d1c8')\"\n",
              "              title=\"Convert this dataframe to an interactive table.\"\n",
              "              style=\"display:none;\">\n",
              "        \n",
              "  <svg xmlns=\"http://www.w3.org/2000/svg\" height=\"24px\"viewBox=\"0 0 24 24\"\n",
              "       width=\"24px\">\n",
              "    <path d=\"M0 0h24v24H0V0z\" fill=\"none\"/>\n",
              "    <path d=\"M18.56 5.44l.94 2.06.94-2.06 2.06-.94-2.06-.94-.94-2.06-.94 2.06-2.06.94zm-11 1L8.5 8.5l.94-2.06 2.06-.94-2.06-.94L8.5 2.5l-.94 2.06-2.06.94zm10 10l.94 2.06.94-2.06 2.06-.94-2.06-.94-.94-2.06-.94 2.06-2.06.94z\"/><path d=\"M17.41 7.96l-1.37-1.37c-.4-.4-.92-.59-1.43-.59-.52 0-1.04.2-1.43.59L10.3 9.45l-7.72 7.72c-.78.78-.78 2.05 0 2.83L4 21.41c.39.39.9.59 1.41.59.51 0 1.02-.2 1.41-.59l7.78-7.78 2.81-2.81c.8-.78.8-2.07 0-2.86zM5.41 20L4 18.59l7.72-7.72 1.47 1.35L5.41 20z\"/>\n",
              "  </svg>\n",
              "      </button>\n",
              "      \n",
              "  <style>\n",
              "    .colab-df-container {\n",
              "      display:flex;\n",
              "      flex-wrap:wrap;\n",
              "      gap: 12px;\n",
              "    }\n",
              "\n",
              "    .colab-df-convert {\n",
              "      background-color: #E8F0FE;\n",
              "      border: none;\n",
              "      border-radius: 50%;\n",
              "      cursor: pointer;\n",
              "      display: none;\n",
              "      fill: #1967D2;\n",
              "      height: 32px;\n",
              "      padding: 0 0 0 0;\n",
              "      width: 32px;\n",
              "    }\n",
              "\n",
              "    .colab-df-convert:hover {\n",
              "      background-color: #E2EBFA;\n",
              "      box-shadow: 0px 1px 2px rgba(60, 64, 67, 0.3), 0px 1px 3px 1px rgba(60, 64, 67, 0.15);\n",
              "      fill: #174EA6;\n",
              "    }\n",
              "\n",
              "    [theme=dark] .colab-df-convert {\n",
              "      background-color: #3B4455;\n",
              "      fill: #D2E3FC;\n",
              "    }\n",
              "\n",
              "    [theme=dark] .colab-df-convert:hover {\n",
              "      background-color: #434B5C;\n",
              "      box-shadow: 0px 1px 3px 1px rgba(0, 0, 0, 0.15);\n",
              "      filter: drop-shadow(0px 1px 2px rgba(0, 0, 0, 0.3));\n",
              "      fill: #FFFFFF;\n",
              "    }\n",
              "  </style>\n",
              "\n",
              "      <script>\n",
              "        const buttonEl =\n",
              "          document.querySelector('#df-edfd33de-ddda-4242-bd6a-ab0f1869d1c8 button.colab-df-convert');\n",
              "        buttonEl.style.display =\n",
              "          google.colab.kernel.accessAllowed ? 'block' : 'none';\n",
              "\n",
              "        async function convertToInteractive(key) {\n",
              "          const element = document.querySelector('#df-edfd33de-ddda-4242-bd6a-ab0f1869d1c8');\n",
              "          const dataTable =\n",
              "            await google.colab.kernel.invokeFunction('convertToInteractive',\n",
              "                                                     [key], {});\n",
              "          if (!dataTable) return;\n",
              "\n",
              "          const docLinkHtml = 'Like what you see? Visit the ' +\n",
              "            '<a target=\"_blank\" href=https://colab.research.google.com/notebooks/data_table.ipynb>data table notebook</a>'\n",
              "            + ' to learn more about interactive tables.';\n",
              "          element.innerHTML = '';\n",
              "          dataTable['output_type'] = 'display_data';\n",
              "          await google.colab.output.renderOutput(dataTable, element);\n",
              "          const docLink = document.createElement('div');\n",
              "          docLink.innerHTML = docLinkHtml;\n",
              "          element.appendChild(docLink);\n",
              "        }\n",
              "      </script>\n",
              "    </div>\n",
              "  </div>\n",
              "  "
            ]
          },
          "metadata": {},
          "execution_count": 25
        }
      ]
    },
    {
      "cell_type": "markdown",
      "source": [
        "# Data Cleansing for Visualization"
      ],
      "metadata": {
        "id": "0dJGJoJLVu27"
      }
    },
    {
      "cell_type": "code",
      "source": [
        "df['clean_tweet'].to_excel('cleaneddd.xlsx')"
      ],
      "metadata": {
        "id": "aaPwYVUaXOjh"
      },
      "execution_count": null,
      "outputs": []
    },
    {
      "cell_type": "code",
      "source": [
        "tempArr = []\n",
        "for line in df['clean_tweet']:\n",
        "  tempArr.append(line.split())\n",
        "\n",
        "len(tempArr)"
      ],
      "metadata": {
        "colab": {
          "base_uri": "https://localhost:8080/"
        },
        "id": "mKgI1aW_XRSD",
        "outputId": "2bc8829c-540a-4b96-9628-c24b25ee8ba4"
      },
      "execution_count": null,
      "outputs": [
        {
          "output_type": "execute_result",
          "data": {
            "text/plain": [
              "26211"
            ]
          },
          "metadata": {},
          "execution_count": 8
        }
      ]
    },
    {
      "cell_type": "code",
      "source": [
        "df['split_words'] = tempArr"
      ],
      "metadata": {
        "id": "3OuYQikaZncr"
      },
      "execution_count": null,
      "outputs": []
    },
    {
      "cell_type": "code",
      "source": [
        "df.head()"
      ],
      "metadata": {
        "colab": {
          "base_uri": "https://localhost:8080/",
          "height": 337
        },
        "id": "dfRHFDaTd-uf",
        "outputId": "c00a22a2-a473-48b0-f1f2-5f17eae23872"
      },
      "execution_count": null,
      "outputs": [
        {
          "output_type": "execute_result",
          "data": {
            "text/plain": [
              "                   Datetime  \\\n",
              "0 2022-05-27 06:04:01+00:00   \n",
              "1 2022-05-27 04:34:08+00:00   \n",
              "2 2022-05-27 04:24:52+00:00   \n",
              "3 2022-05-27 00:50:14+00:00   \n",
              "4 2022-05-26 21:46:38+00:00   \n",
              "\n",
              "                                                Text  Label  \\\n",
              "0  Semoga yang benci islam atau sering giring opi...      0   \n",
              "1  @Naollivia @MegaPKeliduan Tenggelamkan sampai ...      0   \n",
              "2  @whyoedee @NUgarislucu Boleh benci dg Islam tp...      0   \n",
              "3   Aku mendukung abang karena papua jg saudara k...      0   \n",
              "4  @dyahwie @frsp_ Buat ngehina lah, dia kan benc...      0   \n",
              "\n",
              "                                         clean_tweet  \\\n",
              "0  semoga yang benci islam atau sering giring opi...   \n",
              "1  tenggelamkan sampai dasar lautan manusia rasis...   \n",
              "2  boleh benci dg islam tp jgn melesetkan kt takb...   \n",
              "3  aku mendukung abang karena papua jg saudara ku...   \n",
              "4               buat ngehina lah dia kan benci islam   \n",
              "\n",
              "                                         split_words  \n",
              "0  [semoga, yang, benci, islam, atau, sering, gir...  \n",
              "1  [tenggelamkan, sampai, dasar, lautan, manusia,...  \n",
              "2  [boleh, benci, dg, islam, tp, jgn, melesetkan,...  \n",
              "3  [aku, mendukung, abang, karena, papua, jg, sau...  \n",
              "4       [buat, ngehina, lah, dia, kan, benci, islam]  "
            ],
            "text/html": [
              "\n",
              "  <div id=\"df-7c43abdc-2409-4dd5-b132-e7bf170e7b50\">\n",
              "    <div class=\"colab-df-container\">\n",
              "      <div>\n",
              "<style scoped>\n",
              "    .dataframe tbody tr th:only-of-type {\n",
              "        vertical-align: middle;\n",
              "    }\n",
              "\n",
              "    .dataframe tbody tr th {\n",
              "        vertical-align: top;\n",
              "    }\n",
              "\n",
              "    .dataframe thead th {\n",
              "        text-align: right;\n",
              "    }\n",
              "</style>\n",
              "<table border=\"1\" class=\"dataframe\">\n",
              "  <thead>\n",
              "    <tr style=\"text-align: right;\">\n",
              "      <th></th>\n",
              "      <th>Datetime</th>\n",
              "      <th>Text</th>\n",
              "      <th>Label</th>\n",
              "      <th>clean_tweet</th>\n",
              "      <th>split_words</th>\n",
              "    </tr>\n",
              "  </thead>\n",
              "  <tbody>\n",
              "    <tr>\n",
              "      <th>0</th>\n",
              "      <td>2022-05-27 06:04:01+00:00</td>\n",
              "      <td>Semoga yang benci islam atau sering giring opi...</td>\n",
              "      <td>0</td>\n",
              "      <td>semoga yang benci islam atau sering giring opi...</td>\n",
              "      <td>[semoga, yang, benci, islam, atau, sering, gir...</td>\n",
              "    </tr>\n",
              "    <tr>\n",
              "      <th>1</th>\n",
              "      <td>2022-05-27 04:34:08+00:00</td>\n",
              "      <td>@Naollivia @MegaPKeliduan Tenggelamkan sampai ...</td>\n",
              "      <td>0</td>\n",
              "      <td>tenggelamkan sampai dasar lautan manusia rasis...</td>\n",
              "      <td>[tenggelamkan, sampai, dasar, lautan, manusia,...</td>\n",
              "    </tr>\n",
              "    <tr>\n",
              "      <th>2</th>\n",
              "      <td>2022-05-27 04:24:52+00:00</td>\n",
              "      <td>@whyoedee @NUgarislucu Boleh benci dg Islam tp...</td>\n",
              "      <td>0</td>\n",
              "      <td>boleh benci dg islam tp jgn melesetkan kt takb...</td>\n",
              "      <td>[boleh, benci, dg, islam, tp, jgn, melesetkan,...</td>\n",
              "    </tr>\n",
              "    <tr>\n",
              "      <th>3</th>\n",
              "      <td>2022-05-27 00:50:14+00:00</td>\n",
              "      <td>Aku mendukung abang karena papua jg saudara k...</td>\n",
              "      <td>0</td>\n",
              "      <td>aku mendukung abang karena papua jg saudara ku...</td>\n",
              "      <td>[aku, mendukung, abang, karena, papua, jg, sau...</td>\n",
              "    </tr>\n",
              "    <tr>\n",
              "      <th>4</th>\n",
              "      <td>2022-05-26 21:46:38+00:00</td>\n",
              "      <td>@dyahwie @frsp_ Buat ngehina lah, dia kan benc...</td>\n",
              "      <td>0</td>\n",
              "      <td>buat ngehina lah dia kan benci islam</td>\n",
              "      <td>[buat, ngehina, lah, dia, kan, benci, islam]</td>\n",
              "    </tr>\n",
              "  </tbody>\n",
              "</table>\n",
              "</div>\n",
              "      <button class=\"colab-df-convert\" onclick=\"convertToInteractive('df-7c43abdc-2409-4dd5-b132-e7bf170e7b50')\"\n",
              "              title=\"Convert this dataframe to an interactive table.\"\n",
              "              style=\"display:none;\">\n",
              "        \n",
              "  <svg xmlns=\"http://www.w3.org/2000/svg\" height=\"24px\"viewBox=\"0 0 24 24\"\n",
              "       width=\"24px\">\n",
              "    <path d=\"M0 0h24v24H0V0z\" fill=\"none\"/>\n",
              "    <path d=\"M18.56 5.44l.94 2.06.94-2.06 2.06-.94-2.06-.94-.94-2.06-.94 2.06-2.06.94zm-11 1L8.5 8.5l.94-2.06 2.06-.94-2.06-.94L8.5 2.5l-.94 2.06-2.06.94zm10 10l.94 2.06.94-2.06 2.06-.94-2.06-.94-.94-2.06-.94 2.06-2.06.94z\"/><path d=\"M17.41 7.96l-1.37-1.37c-.4-.4-.92-.59-1.43-.59-.52 0-1.04.2-1.43.59L10.3 9.45l-7.72 7.72c-.78.78-.78 2.05 0 2.83L4 21.41c.39.39.9.59 1.41.59.51 0 1.02-.2 1.41-.59l7.78-7.78 2.81-2.81c.8-.78.8-2.07 0-2.86zM5.41 20L4 18.59l7.72-7.72 1.47 1.35L5.41 20z\"/>\n",
              "  </svg>\n",
              "      </button>\n",
              "      \n",
              "  <style>\n",
              "    .colab-df-container {\n",
              "      display:flex;\n",
              "      flex-wrap:wrap;\n",
              "      gap: 12px;\n",
              "    }\n",
              "\n",
              "    .colab-df-convert {\n",
              "      background-color: #E8F0FE;\n",
              "      border: none;\n",
              "      border-radius: 50%;\n",
              "      cursor: pointer;\n",
              "      display: none;\n",
              "      fill: #1967D2;\n",
              "      height: 32px;\n",
              "      padding: 0 0 0 0;\n",
              "      width: 32px;\n",
              "    }\n",
              "\n",
              "    .colab-df-convert:hover {\n",
              "      background-color: #E2EBFA;\n",
              "      box-shadow: 0px 1px 2px rgba(60, 64, 67, 0.3), 0px 1px 3px 1px rgba(60, 64, 67, 0.15);\n",
              "      fill: #174EA6;\n",
              "    }\n",
              "\n",
              "    [theme=dark] .colab-df-convert {\n",
              "      background-color: #3B4455;\n",
              "      fill: #D2E3FC;\n",
              "    }\n",
              "\n",
              "    [theme=dark] .colab-df-convert:hover {\n",
              "      background-color: #434B5C;\n",
              "      box-shadow: 0px 1px 3px 1px rgba(0, 0, 0, 0.15);\n",
              "      filter: drop-shadow(0px 1px 2px rgba(0, 0, 0, 0.3));\n",
              "      fill: #FFFFFF;\n",
              "    }\n",
              "  </style>\n",
              "\n",
              "      <script>\n",
              "        const buttonEl =\n",
              "          document.querySelector('#df-7c43abdc-2409-4dd5-b132-e7bf170e7b50 button.colab-df-convert');\n",
              "        buttonEl.style.display =\n",
              "          google.colab.kernel.accessAllowed ? 'block' : 'none';\n",
              "\n",
              "        async function convertToInteractive(key) {\n",
              "          const element = document.querySelector('#df-7c43abdc-2409-4dd5-b132-e7bf170e7b50');\n",
              "          const dataTable =\n",
              "            await google.colab.kernel.invokeFunction('convertToInteractive',\n",
              "                                                     [key], {});\n",
              "          if (!dataTable) return;\n",
              "\n",
              "          const docLinkHtml = 'Like what you see? Visit the ' +\n",
              "            '<a target=\"_blank\" href=https://colab.research.google.com/notebooks/data_table.ipynb>data table notebook</a>'\n",
              "            + ' to learn more about interactive tables.';\n",
              "          element.innerHTML = '';\n",
              "          dataTable['output_type'] = 'display_data';\n",
              "          await google.colab.output.renderOutput(dataTable, element);\n",
              "          const docLink = document.createElement('div');\n",
              "          docLink.innerHTML = docLinkHtml;\n",
              "          element.appendChild(docLink);\n",
              "        }\n",
              "      </script>\n",
              "    </div>\n",
              "  </div>\n",
              "  "
            ]
          },
          "metadata": {},
          "execution_count": 18
        }
      ]
    },
    {
      "cell_type": "code",
      "source": [
        "!pip install nltk"
      ],
      "metadata": {
        "colab": {
          "base_uri": "https://localhost:8080/"
        },
        "id": "7oND_lDFVqoz",
        "outputId": "fae762cf-35d6-4cb0-8148-9efeaf237dec"
      },
      "execution_count": null,
      "outputs": [
        {
          "output_type": "stream",
          "name": "stdout",
          "text": [
            "Looking in indexes: https://pypi.org/simple, https://us-python.pkg.dev/colab-wheels/public/simple/\n",
            "Requirement already satisfied: nltk in /usr/local/lib/python3.7/dist-packages (3.2.5)\n",
            "Requirement already satisfied: six in /usr/local/lib/python3.7/dist-packages (from nltk) (1.15.0)\n"
          ]
        }
      ]
    },
    {
      "cell_type": "code",
      "source": [
        "!python -m nltk.downloader popular"
      ],
      "metadata": {
        "colab": {
          "base_uri": "https://localhost:8080/"
        },
        "id": "XpgLG_uHWvhz",
        "outputId": "4c5deda7-741f-4dc8-9853-daef8f80dab2"
      },
      "execution_count": null,
      "outputs": [
        {
          "output_type": "stream",
          "name": "stdout",
          "text": [
            "/usr/lib/python3.7/runpy.py:125: RuntimeWarning: 'nltk.downloader' found in sys.modules after import of package 'nltk', but prior to execution of 'nltk.downloader'; this may result in unpredictable behaviour\n",
            "  warn(RuntimeWarning(msg))\n",
            "[nltk_data] Downloading collection 'popular'\n",
            "[nltk_data]    | \n",
            "[nltk_data]    | Downloading package cmudict to /root/nltk_data...\n",
            "[nltk_data]    |   Unzipping corpora/cmudict.zip.\n",
            "[nltk_data]    | Downloading package gazetteers to /root/nltk_data...\n",
            "[nltk_data]    |   Unzipping corpora/gazetteers.zip.\n",
            "[nltk_data]    | Downloading package genesis to /root/nltk_data...\n",
            "[nltk_data]    |   Unzipping corpora/genesis.zip.\n",
            "[nltk_data]    | Downloading package gutenberg to /root/nltk_data...\n",
            "[nltk_data]    |   Unzipping corpora/gutenberg.zip.\n",
            "[nltk_data]    | Downloading package inaugural to /root/nltk_data...\n",
            "[nltk_data]    |   Unzipping corpora/inaugural.zip.\n",
            "[nltk_data]    | Downloading package movie_reviews to\n",
            "[nltk_data]    |     /root/nltk_data...\n",
            "[nltk_data]    |   Unzipping corpora/movie_reviews.zip.\n",
            "[nltk_data]    | Downloading package names to /root/nltk_data...\n",
            "[nltk_data]    |   Unzipping corpora/names.zip.\n",
            "[nltk_data]    | Downloading package shakespeare to /root/nltk_data...\n",
            "[nltk_data]    |   Unzipping corpora/shakespeare.zip.\n",
            "[nltk_data]    | Downloading package stopwords to /root/nltk_data...\n",
            "[nltk_data]    |   Unzipping corpora/stopwords.zip.\n",
            "[nltk_data]    | Downloading package treebank to /root/nltk_data...\n",
            "[nltk_data]    |   Unzipping corpora/treebank.zip.\n",
            "[nltk_data]    | Downloading package twitter_samples to\n",
            "[nltk_data]    |     /root/nltk_data...\n",
            "[nltk_data]    |   Unzipping corpora/twitter_samples.zip.\n",
            "[nltk_data]    | Downloading package omw to /root/nltk_data...\n",
            "[nltk_data]    |   Unzipping corpora/omw.zip.\n",
            "[nltk_data]    | Downloading package omw-1.4 to /root/nltk_data...\n",
            "[nltk_data]    |   Unzipping corpora/omw-1.4.zip.\n",
            "[nltk_data]    | Downloading package wordnet to /root/nltk_data...\n",
            "[nltk_data]    |   Unzipping corpora/wordnet.zip.\n",
            "[nltk_data]    | Downloading package wordnet2021 to /root/nltk_data...\n",
            "[nltk_data]    |   Unzipping corpora/wordnet2021.zip.\n",
            "[nltk_data]    | Downloading package wordnet31 to /root/nltk_data...\n",
            "[nltk_data]    |   Unzipping corpora/wordnet31.zip.\n",
            "[nltk_data]    | Downloading package wordnet_ic to /root/nltk_data...\n",
            "[nltk_data]    |   Unzipping corpora/wordnet_ic.zip.\n",
            "[nltk_data]    | Downloading package words to /root/nltk_data...\n",
            "[nltk_data]    |   Unzipping corpora/words.zip.\n",
            "[nltk_data]    | Downloading package maxent_ne_chunker to\n",
            "[nltk_data]    |     /root/nltk_data...\n",
            "[nltk_data]    |   Unzipping chunkers/maxent_ne_chunker.zip.\n",
            "[nltk_data]    | Downloading package punkt to /root/nltk_data...\n",
            "[nltk_data]    |   Unzipping tokenizers/punkt.zip.\n",
            "[nltk_data]    | Downloading package snowball_data to\n",
            "[nltk_data]    |     /root/nltk_data...\n",
            "[nltk_data]    | Downloading package averaged_perceptron_tagger to\n",
            "[nltk_data]    |     /root/nltk_data...\n",
            "[nltk_data]    |   Unzipping taggers/averaged_perceptron_tagger.zip.\n",
            "[nltk_data]    | \n",
            "[nltk_data]  Done downloading collection popular\n"
          ]
        }
      ]
    },
    {
      "cell_type": "code",
      "source": [
        "!pip install PySastrawi"
      ],
      "metadata": {
        "colab": {
          "base_uri": "https://localhost:8080/"
        },
        "id": "EhV36TXjd6fU",
        "outputId": "11795231-92d5-475f-95d3-a570898a5256"
      },
      "execution_count": null,
      "outputs": [
        {
          "output_type": "stream",
          "name": "stdout",
          "text": [
            "Looking in indexes: https://pypi.org/simple, https://us-python.pkg.dev/colab-wheels/public/simple/\n",
            "Collecting PySastrawi\n",
            "  Downloading PySastrawi-1.2.0-py2.py3-none-any.whl (210 kB)\n",
            "\u001b[K     |████████████████████████████████| 210 kB 5.1 MB/s \n",
            "\u001b[?25hInstalling collected packages: PySastrawi\n",
            "Successfully installed PySastrawi-1.2.0\n"
          ]
        }
      ]
    },
    {
      "cell_type": "code",
      "source": [
        "from nltk.corpus import stopwords\n",
        "\n",
        "from nltk.tokenize import word_tokenize\n",
        "\n",
        "import matplotlib.pyplot as plt"
      ],
      "metadata": {
        "id": "b7tMg0iId_hE"
      },
      "execution_count": null,
      "outputs": []
    },
    {
      "cell_type": "code",
      "source": [
        "stop_words = set(stopwords.words('indonesian'))\n",
        "\n",
        "word_tokens_no_stopwords = []\n",
        "\n",
        "for i in df.split_words.values:\n",
        "   for w in i:\n",
        "      if not w in stop_words:\n",
        "        word_tokens_no_stopwords.append(w)"
      ],
      "metadata": {
        "id": "UUyQFLGueDON"
      },
      "execution_count": null,
      "outputs": []
    },
    {
      "cell_type": "code",
      "source": [
        "textfile = open(\"clean_sentiment.txt\", \"w\")\n",
        "for element in word_tokens_no_stopwords:\n",
        "    textfile.write(element + \"\\n\")\n",
        "textfile.close()"
      ],
      "metadata": {
        "id": "efQrWmewfIcG"
      },
      "execution_count": null,
      "outputs": []
    }
  ],
  "metadata": {
    "colab": {
      "collapsed_sections": [],
      "name": "Twitter_Sentiment_Analysis_Support_Vector_Classifier.ipynb",
      "provenance": []
    },
    "kernelspec": {
      "display_name": "Python 3",
      "language": "python",
      "name": "python3"
    },
    "language_info": {
      "codemirror_mode": {
        "name": "ipython",
        "version": 3
      },
      "file_extension": ".py",
      "mimetype": "text/x-python",
      "name": "python",
      "nbconvert_exporter": "python",
      "pygments_lexer": "ipython3",
      "version": "3.7.3"
    },
    "accelerator": "GPU"
  },
  "nbformat": 4,
  "nbformat_minor": 0
}